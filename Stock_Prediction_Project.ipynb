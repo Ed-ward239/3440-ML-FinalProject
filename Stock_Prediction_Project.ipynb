{
  "cells": [
    {
      "cell_type": "markdown",
      "metadata": {
        "id": "rtUUz0GGvZ_B"
      },
      "source": [
        "Edward Lee<br>CISC 3440<br>Stock Price Prediction Project<br>Prof. McNiell<br>Brooklyn College\n"
      ]
    },
    {
      "cell_type": "markdown",
      "metadata": {
        "id": "yeLSRmwXw-mS"
      },
      "source": [
        "Stocks to predict: $SPY (S&P 500 ETF: Amazon, Apple, Google, Microsoft, Tesla, etc.), BAC (Bank of America), and WMT (Walmart). Using the data from Kaggle (https://www.kaggle.com/datasets/borismarjanovic/price-volume-data-for-all-us-stocks-etfs), the CSV data contains from 1972 to 2017 stock market prices of Open, High, Low, Close, Volume, and OpenInt. "
      ]
    },
    {
      "cell_type": "code",
      "execution_count": null,
      "metadata": {
        "id": "_sLqehOavX5B"
      },
      "outputs": [],
      "source": [
        "from matplotlib import pyplot as plt\n",
        "import numpy as np\n",
        "import pandas as pd\n",
        "from tensorflow import keras\n",
        "from sklearn.datasets import fetch_covtype\n",
        "from sklearn.model_selection import train_test_split\n",
        "from sklearn.preprocessing import StandardScaler\n",
        "from sklearn.ensemble import RandomForestClassifier\n",
        "from keras.models import Sequential\n",
        "from keras.layers import Dense\n",
        "from keras.layers import SimpleRNN\n",
        "from keras.layers import Dropout\n",
        "from sklearn.preprocessing import MinMaxScaler\n",
        "from sklearn import metrics\n",
        "from keras.layers import LSTM"
      ]
    },
    {
      "cell_type": "code",
      "execution_count": null,
      "metadata": {
        "id": "v7Sus1ygyZC6"
      },
      "outputs": [],
      "source": [
        "df_Spy = pd.read_csv(\"https://raw.githubusercontent.com/Ed-ward239/3440-ML-FinalProject/main/csv/spy.csv\")\n",
        "df_Bac = pd.read_csv(\"https://raw.githubusercontent.com/Ed-ward239/3440-ML-FinalProject/main/csv/bac.csv\")\n",
        "df_Wmt = pd.read_csv(\"https://raw.githubusercontent.com/Ed-ward239/3440-ML-FinalProject/main/csv/wmt.csv\")"
      ]
    },
    {
      "cell_type": "code",
      "execution_count": null,
      "metadata": {
        "colab": {
          "base_uri": "https://localhost:8080/",
          "height": 206
        },
        "id": "fKOML4rWL79V",
        "outputId": "b8beafad-241e-47f1-93ce-257cbca4c960"
      },
      "outputs": [
        {
          "output_type": "execute_result",
          "data": {
            "text/plain": [
              "         Date    Open    High     Low   Close    Volume  OpenInt\n",
              "0  2005-02-25  104.77  106.00  104.68  105.79  70221808        0\n",
              "1  2005-02-28  105.55  105.68  104.56  105.08  79695344        0\n",
              "2  2005-03-01  105.22  105.87  105.22  105.62  54607412        0\n",
              "3  2005-03-02  105.21  106.22  105.10  105.57  73733090        0\n",
              "4  2005-03-03  105.99  106.20  105.15  105.61  71286823        0"
            ],
            "text/html": [
              "\n",
              "  <div id=\"df-0ecf2f5e-7d1b-440e-9346-687a55ceb503\">\n",
              "    <div class=\"colab-df-container\">\n",
              "      <div>\n",
              "<style scoped>\n",
              "    .dataframe tbody tr th:only-of-type {\n",
              "        vertical-align: middle;\n",
              "    }\n",
              "\n",
              "    .dataframe tbody tr th {\n",
              "        vertical-align: top;\n",
              "    }\n",
              "\n",
              "    .dataframe thead th {\n",
              "        text-align: right;\n",
              "    }\n",
              "</style>\n",
              "<table border=\"1\" class=\"dataframe\">\n",
              "  <thead>\n",
              "    <tr style=\"text-align: right;\">\n",
              "      <th></th>\n",
              "      <th>Date</th>\n",
              "      <th>Open</th>\n",
              "      <th>High</th>\n",
              "      <th>Low</th>\n",
              "      <th>Close</th>\n",
              "      <th>Volume</th>\n",
              "      <th>OpenInt</th>\n",
              "    </tr>\n",
              "  </thead>\n",
              "  <tbody>\n",
              "    <tr>\n",
              "      <th>0</th>\n",
              "      <td>2005-02-25</td>\n",
              "      <td>104.77</td>\n",
              "      <td>106.00</td>\n",
              "      <td>104.68</td>\n",
              "      <td>105.79</td>\n",
              "      <td>70221808</td>\n",
              "      <td>0</td>\n",
              "    </tr>\n",
              "    <tr>\n",
              "      <th>1</th>\n",
              "      <td>2005-02-28</td>\n",
              "      <td>105.55</td>\n",
              "      <td>105.68</td>\n",
              "      <td>104.56</td>\n",
              "      <td>105.08</td>\n",
              "      <td>79695344</td>\n",
              "      <td>0</td>\n",
              "    </tr>\n",
              "    <tr>\n",
              "      <th>2</th>\n",
              "      <td>2005-03-01</td>\n",
              "      <td>105.22</td>\n",
              "      <td>105.87</td>\n",
              "      <td>105.22</td>\n",
              "      <td>105.62</td>\n",
              "      <td>54607412</td>\n",
              "      <td>0</td>\n",
              "    </tr>\n",
              "    <tr>\n",
              "      <th>3</th>\n",
              "      <td>2005-03-02</td>\n",
              "      <td>105.21</td>\n",
              "      <td>106.22</td>\n",
              "      <td>105.10</td>\n",
              "      <td>105.57</td>\n",
              "      <td>73733090</td>\n",
              "      <td>0</td>\n",
              "    </tr>\n",
              "    <tr>\n",
              "      <th>4</th>\n",
              "      <td>2005-03-03</td>\n",
              "      <td>105.99</td>\n",
              "      <td>106.20</td>\n",
              "      <td>105.15</td>\n",
              "      <td>105.61</td>\n",
              "      <td>71286823</td>\n",
              "      <td>0</td>\n",
              "    </tr>\n",
              "  </tbody>\n",
              "</table>\n",
              "</div>\n",
              "      <button class=\"colab-df-convert\" onclick=\"convertToInteractive('df-0ecf2f5e-7d1b-440e-9346-687a55ceb503')\"\n",
              "              title=\"Convert this dataframe to an interactive table.\"\n",
              "              style=\"display:none;\">\n",
              "        \n",
              "  <svg xmlns=\"http://www.w3.org/2000/svg\" height=\"24px\"viewBox=\"0 0 24 24\"\n",
              "       width=\"24px\">\n",
              "    <path d=\"M0 0h24v24H0V0z\" fill=\"none\"/>\n",
              "    <path d=\"M18.56 5.44l.94 2.06.94-2.06 2.06-.94-2.06-.94-.94-2.06-.94 2.06-2.06.94zm-11 1L8.5 8.5l.94-2.06 2.06-.94-2.06-.94L8.5 2.5l-.94 2.06-2.06.94zm10 10l.94 2.06.94-2.06 2.06-.94-2.06-.94-.94-2.06-.94 2.06-2.06.94z\"/><path d=\"M17.41 7.96l-1.37-1.37c-.4-.4-.92-.59-1.43-.59-.52 0-1.04.2-1.43.59L10.3 9.45l-7.72 7.72c-.78.78-.78 2.05 0 2.83L4 21.41c.39.39.9.59 1.41.59.51 0 1.02-.2 1.41-.59l7.78-7.78 2.81-2.81c.8-.78.8-2.07 0-2.86zM5.41 20L4 18.59l7.72-7.72 1.47 1.35L5.41 20z\"/>\n",
              "  </svg>\n",
              "      </button>\n",
              "      \n",
              "  <style>\n",
              "    .colab-df-container {\n",
              "      display:flex;\n",
              "      flex-wrap:wrap;\n",
              "      gap: 12px;\n",
              "    }\n",
              "\n",
              "    .colab-df-convert {\n",
              "      background-color: #E8F0FE;\n",
              "      border: none;\n",
              "      border-radius: 50%;\n",
              "      cursor: pointer;\n",
              "      display: none;\n",
              "      fill: #1967D2;\n",
              "      height: 32px;\n",
              "      padding: 0 0 0 0;\n",
              "      width: 32px;\n",
              "    }\n",
              "\n",
              "    .colab-df-convert:hover {\n",
              "      background-color: #E2EBFA;\n",
              "      box-shadow: 0px 1px 2px rgba(60, 64, 67, 0.3), 0px 1px 3px 1px rgba(60, 64, 67, 0.15);\n",
              "      fill: #174EA6;\n",
              "    }\n",
              "\n",
              "    [theme=dark] .colab-df-convert {\n",
              "      background-color: #3B4455;\n",
              "      fill: #D2E3FC;\n",
              "    }\n",
              "\n",
              "    [theme=dark] .colab-df-convert:hover {\n",
              "      background-color: #434B5C;\n",
              "      box-shadow: 0px 1px 3px 1px rgba(0, 0, 0, 0.15);\n",
              "      filter: drop-shadow(0px 1px 2px rgba(0, 0, 0, 0.3));\n",
              "      fill: #FFFFFF;\n",
              "    }\n",
              "  </style>\n",
              "\n",
              "      <script>\n",
              "        const buttonEl =\n",
              "          document.querySelector('#df-0ecf2f5e-7d1b-440e-9346-687a55ceb503 button.colab-df-convert');\n",
              "        buttonEl.style.display =\n",
              "          google.colab.kernel.accessAllowed ? 'block' : 'none';\n",
              "\n",
              "        async function convertToInteractive(key) {\n",
              "          const element = document.querySelector('#df-0ecf2f5e-7d1b-440e-9346-687a55ceb503');\n",
              "          const dataTable =\n",
              "            await google.colab.kernel.invokeFunction('convertToInteractive',\n",
              "                                                     [key], {});\n",
              "          if (!dataTable) return;\n",
              "\n",
              "          const docLinkHtml = 'Like what you see? Visit the ' +\n",
              "            '<a target=\"_blank\" href=https://colab.research.google.com/notebooks/data_table.ipynb>data table notebook</a>'\n",
              "            + ' to learn more about interactive tables.';\n",
              "          element.innerHTML = '';\n",
              "          dataTable['output_type'] = 'display_data';\n",
              "          await google.colab.output.renderOutput(dataTable, element);\n",
              "          const docLink = document.createElement('div');\n",
              "          docLink.innerHTML = docLinkHtml;\n",
              "          element.appendChild(docLink);\n",
              "        }\n",
              "      </script>\n",
              "    </div>\n",
              "  </div>\n",
              "  "
            ]
          },
          "metadata": {},
          "execution_count": 3
        }
      ],
      "source": [
        "df_Spy.head()"
      ]
    },
    {
      "cell_type": "code",
      "source": [
        "df_Bac.head()"
      ],
      "metadata": {
        "colab": {
          "base_uri": "https://localhost:8080/",
          "height": 206
        },
        "id": "_upzyu7ijHkG",
        "outputId": "a8ef54a7-78b6-4531-f765-bfe4c67e93fa"
      },
      "execution_count": null,
      "outputs": [
        {
          "output_type": "execute_result",
          "data": {
            "text/plain": [
              "         Date    Open    High     Low   Close    Volume  OpenInt\n",
              "0  1986-05-29  3.6107  3.6389  3.6107  3.6295  16691365        0\n",
              "1  1986-05-30  3.6107  3.6578  3.6107  3.6578   6895475        0\n",
              "2  1986-06-02  3.6578  3.6768  3.6295  3.6485    333487        0\n",
              "3  1986-06-03  3.6389  3.6768  3.6295  3.6768    163776        0\n",
              "4  1986-06-04  3.6485  3.6768  3.6204  3.6204    203654        0"
            ],
            "text/html": [
              "\n",
              "  <div id=\"df-4c2314b7-906b-4403-8586-d6ea82b236ec\">\n",
              "    <div class=\"colab-df-container\">\n",
              "      <div>\n",
              "<style scoped>\n",
              "    .dataframe tbody tr th:only-of-type {\n",
              "        vertical-align: middle;\n",
              "    }\n",
              "\n",
              "    .dataframe tbody tr th {\n",
              "        vertical-align: top;\n",
              "    }\n",
              "\n",
              "    .dataframe thead th {\n",
              "        text-align: right;\n",
              "    }\n",
              "</style>\n",
              "<table border=\"1\" class=\"dataframe\">\n",
              "  <thead>\n",
              "    <tr style=\"text-align: right;\">\n",
              "      <th></th>\n",
              "      <th>Date</th>\n",
              "      <th>Open</th>\n",
              "      <th>High</th>\n",
              "      <th>Low</th>\n",
              "      <th>Close</th>\n",
              "      <th>Volume</th>\n",
              "      <th>OpenInt</th>\n",
              "    </tr>\n",
              "  </thead>\n",
              "  <tbody>\n",
              "    <tr>\n",
              "      <th>0</th>\n",
              "      <td>1986-05-29</td>\n",
              "      <td>3.6107</td>\n",
              "      <td>3.6389</td>\n",
              "      <td>3.6107</td>\n",
              "      <td>3.6295</td>\n",
              "      <td>16691365</td>\n",
              "      <td>0</td>\n",
              "    </tr>\n",
              "    <tr>\n",
              "      <th>1</th>\n",
              "      <td>1986-05-30</td>\n",
              "      <td>3.6107</td>\n",
              "      <td>3.6578</td>\n",
              "      <td>3.6107</td>\n",
              "      <td>3.6578</td>\n",
              "      <td>6895475</td>\n",
              "      <td>0</td>\n",
              "    </tr>\n",
              "    <tr>\n",
              "      <th>2</th>\n",
              "      <td>1986-06-02</td>\n",
              "      <td>3.6578</td>\n",
              "      <td>3.6768</td>\n",
              "      <td>3.6295</td>\n",
              "      <td>3.6485</td>\n",
              "      <td>333487</td>\n",
              "      <td>0</td>\n",
              "    </tr>\n",
              "    <tr>\n",
              "      <th>3</th>\n",
              "      <td>1986-06-03</td>\n",
              "      <td>3.6389</td>\n",
              "      <td>3.6768</td>\n",
              "      <td>3.6295</td>\n",
              "      <td>3.6768</td>\n",
              "      <td>163776</td>\n",
              "      <td>0</td>\n",
              "    </tr>\n",
              "    <tr>\n",
              "      <th>4</th>\n",
              "      <td>1986-06-04</td>\n",
              "      <td>3.6485</td>\n",
              "      <td>3.6768</td>\n",
              "      <td>3.6204</td>\n",
              "      <td>3.6204</td>\n",
              "      <td>203654</td>\n",
              "      <td>0</td>\n",
              "    </tr>\n",
              "  </tbody>\n",
              "</table>\n",
              "</div>\n",
              "      <button class=\"colab-df-convert\" onclick=\"convertToInteractive('df-4c2314b7-906b-4403-8586-d6ea82b236ec')\"\n",
              "              title=\"Convert this dataframe to an interactive table.\"\n",
              "              style=\"display:none;\">\n",
              "        \n",
              "  <svg xmlns=\"http://www.w3.org/2000/svg\" height=\"24px\"viewBox=\"0 0 24 24\"\n",
              "       width=\"24px\">\n",
              "    <path d=\"M0 0h24v24H0V0z\" fill=\"none\"/>\n",
              "    <path d=\"M18.56 5.44l.94 2.06.94-2.06 2.06-.94-2.06-.94-.94-2.06-.94 2.06-2.06.94zm-11 1L8.5 8.5l.94-2.06 2.06-.94-2.06-.94L8.5 2.5l-.94 2.06-2.06.94zm10 10l.94 2.06.94-2.06 2.06-.94-2.06-.94-.94-2.06-.94 2.06-2.06.94z\"/><path d=\"M17.41 7.96l-1.37-1.37c-.4-.4-.92-.59-1.43-.59-.52 0-1.04.2-1.43.59L10.3 9.45l-7.72 7.72c-.78.78-.78 2.05 0 2.83L4 21.41c.39.39.9.59 1.41.59.51 0 1.02-.2 1.41-.59l7.78-7.78 2.81-2.81c.8-.78.8-2.07 0-2.86zM5.41 20L4 18.59l7.72-7.72 1.47 1.35L5.41 20z\"/>\n",
              "  </svg>\n",
              "      </button>\n",
              "      \n",
              "  <style>\n",
              "    .colab-df-container {\n",
              "      display:flex;\n",
              "      flex-wrap:wrap;\n",
              "      gap: 12px;\n",
              "    }\n",
              "\n",
              "    .colab-df-convert {\n",
              "      background-color: #E8F0FE;\n",
              "      border: none;\n",
              "      border-radius: 50%;\n",
              "      cursor: pointer;\n",
              "      display: none;\n",
              "      fill: #1967D2;\n",
              "      height: 32px;\n",
              "      padding: 0 0 0 0;\n",
              "      width: 32px;\n",
              "    }\n",
              "\n",
              "    .colab-df-convert:hover {\n",
              "      background-color: #E2EBFA;\n",
              "      box-shadow: 0px 1px 2px rgba(60, 64, 67, 0.3), 0px 1px 3px 1px rgba(60, 64, 67, 0.15);\n",
              "      fill: #174EA6;\n",
              "    }\n",
              "\n",
              "    [theme=dark] .colab-df-convert {\n",
              "      background-color: #3B4455;\n",
              "      fill: #D2E3FC;\n",
              "    }\n",
              "\n",
              "    [theme=dark] .colab-df-convert:hover {\n",
              "      background-color: #434B5C;\n",
              "      box-shadow: 0px 1px 3px 1px rgba(0, 0, 0, 0.15);\n",
              "      filter: drop-shadow(0px 1px 2px rgba(0, 0, 0, 0.3));\n",
              "      fill: #FFFFFF;\n",
              "    }\n",
              "  </style>\n",
              "\n",
              "      <script>\n",
              "        const buttonEl =\n",
              "          document.querySelector('#df-4c2314b7-906b-4403-8586-d6ea82b236ec button.colab-df-convert');\n",
              "        buttonEl.style.display =\n",
              "          google.colab.kernel.accessAllowed ? 'block' : 'none';\n",
              "\n",
              "        async function convertToInteractive(key) {\n",
              "          const element = document.querySelector('#df-4c2314b7-906b-4403-8586-d6ea82b236ec');\n",
              "          const dataTable =\n",
              "            await google.colab.kernel.invokeFunction('convertToInteractive',\n",
              "                                                     [key], {});\n",
              "          if (!dataTable) return;\n",
              "\n",
              "          const docLinkHtml = 'Like what you see? Visit the ' +\n",
              "            '<a target=\"_blank\" href=https://colab.research.google.com/notebooks/data_table.ipynb>data table notebook</a>'\n",
              "            + ' to learn more about interactive tables.';\n",
              "          element.innerHTML = '';\n",
              "          dataTable['output_type'] = 'display_data';\n",
              "          await google.colab.output.renderOutput(dataTable, element);\n",
              "          const docLink = document.createElement('div');\n",
              "          docLink.innerHTML = docLinkHtml;\n",
              "          element.appendChild(docLink);\n",
              "        }\n",
              "      </script>\n",
              "    </div>\n",
              "  </div>\n",
              "  "
            ]
          },
          "metadata": {},
          "execution_count": 27
        }
      ]
    },
    {
      "cell_type": "code",
      "source": [
        "df_Wmt.head()"
      ],
      "metadata": {
        "colab": {
          "base_uri": "https://localhost:8080/",
          "height": 206
        },
        "id": "aYSV_QmUjMEw",
        "outputId": "7892f2ce-03be-4256-ab87-57b3a6e8df12"
      },
      "execution_count": null,
      "outputs": [
        {
          "output_type": "execute_result",
          "data": {
            "text/plain": [
              "         Date     Open     High      Low    Close   Volume  OpenInt\n",
              "0  1972-03-20  0.03403  0.03403  0.03403  0.03403  3132119        0\n",
              "1  1972-03-22  0.03403  0.04251  0.03403  0.03403  1084194        0\n",
              "2  1972-03-23  0.03403  0.04251  0.03403  0.03403   783030        0\n",
              "3  1972-03-24  0.03403  0.04251  0.03403  0.03403  1264892        0\n",
              "4  1972-03-27  0.04251  0.04251  0.04251  0.04251  1385361        0"
            ],
            "text/html": [
              "\n",
              "  <div id=\"df-82f70006-1534-4043-8401-afbbc703f83f\">\n",
              "    <div class=\"colab-df-container\">\n",
              "      <div>\n",
              "<style scoped>\n",
              "    .dataframe tbody tr th:only-of-type {\n",
              "        vertical-align: middle;\n",
              "    }\n",
              "\n",
              "    .dataframe tbody tr th {\n",
              "        vertical-align: top;\n",
              "    }\n",
              "\n",
              "    .dataframe thead th {\n",
              "        text-align: right;\n",
              "    }\n",
              "</style>\n",
              "<table border=\"1\" class=\"dataframe\">\n",
              "  <thead>\n",
              "    <tr style=\"text-align: right;\">\n",
              "      <th></th>\n",
              "      <th>Date</th>\n",
              "      <th>Open</th>\n",
              "      <th>High</th>\n",
              "      <th>Low</th>\n",
              "      <th>Close</th>\n",
              "      <th>Volume</th>\n",
              "      <th>OpenInt</th>\n",
              "    </tr>\n",
              "  </thead>\n",
              "  <tbody>\n",
              "    <tr>\n",
              "      <th>0</th>\n",
              "      <td>1972-03-20</td>\n",
              "      <td>0.03403</td>\n",
              "      <td>0.03403</td>\n",
              "      <td>0.03403</td>\n",
              "      <td>0.03403</td>\n",
              "      <td>3132119</td>\n",
              "      <td>0</td>\n",
              "    </tr>\n",
              "    <tr>\n",
              "      <th>1</th>\n",
              "      <td>1972-03-22</td>\n",
              "      <td>0.03403</td>\n",
              "      <td>0.04251</td>\n",
              "      <td>0.03403</td>\n",
              "      <td>0.03403</td>\n",
              "      <td>1084194</td>\n",
              "      <td>0</td>\n",
              "    </tr>\n",
              "    <tr>\n",
              "      <th>2</th>\n",
              "      <td>1972-03-23</td>\n",
              "      <td>0.03403</td>\n",
              "      <td>0.04251</td>\n",
              "      <td>0.03403</td>\n",
              "      <td>0.03403</td>\n",
              "      <td>783030</td>\n",
              "      <td>0</td>\n",
              "    </tr>\n",
              "    <tr>\n",
              "      <th>3</th>\n",
              "      <td>1972-03-24</td>\n",
              "      <td>0.03403</td>\n",
              "      <td>0.04251</td>\n",
              "      <td>0.03403</td>\n",
              "      <td>0.03403</td>\n",
              "      <td>1264892</td>\n",
              "      <td>0</td>\n",
              "    </tr>\n",
              "    <tr>\n",
              "      <th>4</th>\n",
              "      <td>1972-03-27</td>\n",
              "      <td>0.04251</td>\n",
              "      <td>0.04251</td>\n",
              "      <td>0.04251</td>\n",
              "      <td>0.04251</td>\n",
              "      <td>1385361</td>\n",
              "      <td>0</td>\n",
              "    </tr>\n",
              "  </tbody>\n",
              "</table>\n",
              "</div>\n",
              "      <button class=\"colab-df-convert\" onclick=\"convertToInteractive('df-82f70006-1534-4043-8401-afbbc703f83f')\"\n",
              "              title=\"Convert this dataframe to an interactive table.\"\n",
              "              style=\"display:none;\">\n",
              "        \n",
              "  <svg xmlns=\"http://www.w3.org/2000/svg\" height=\"24px\"viewBox=\"0 0 24 24\"\n",
              "       width=\"24px\">\n",
              "    <path d=\"M0 0h24v24H0V0z\" fill=\"none\"/>\n",
              "    <path d=\"M18.56 5.44l.94 2.06.94-2.06 2.06-.94-2.06-.94-.94-2.06-.94 2.06-2.06.94zm-11 1L8.5 8.5l.94-2.06 2.06-.94-2.06-.94L8.5 2.5l-.94 2.06-2.06.94zm10 10l.94 2.06.94-2.06 2.06-.94-2.06-.94-.94-2.06-.94 2.06-2.06.94z\"/><path d=\"M17.41 7.96l-1.37-1.37c-.4-.4-.92-.59-1.43-.59-.52 0-1.04.2-1.43.59L10.3 9.45l-7.72 7.72c-.78.78-.78 2.05 0 2.83L4 21.41c.39.39.9.59 1.41.59.51 0 1.02-.2 1.41-.59l7.78-7.78 2.81-2.81c.8-.78.8-2.07 0-2.86zM5.41 20L4 18.59l7.72-7.72 1.47 1.35L5.41 20z\"/>\n",
              "  </svg>\n",
              "      </button>\n",
              "      \n",
              "  <style>\n",
              "    .colab-df-container {\n",
              "      display:flex;\n",
              "      flex-wrap:wrap;\n",
              "      gap: 12px;\n",
              "    }\n",
              "\n",
              "    .colab-df-convert {\n",
              "      background-color: #E8F0FE;\n",
              "      border: none;\n",
              "      border-radius: 50%;\n",
              "      cursor: pointer;\n",
              "      display: none;\n",
              "      fill: #1967D2;\n",
              "      height: 32px;\n",
              "      padding: 0 0 0 0;\n",
              "      width: 32px;\n",
              "    }\n",
              "\n",
              "    .colab-df-convert:hover {\n",
              "      background-color: #E2EBFA;\n",
              "      box-shadow: 0px 1px 2px rgba(60, 64, 67, 0.3), 0px 1px 3px 1px rgba(60, 64, 67, 0.15);\n",
              "      fill: #174EA6;\n",
              "    }\n",
              "\n",
              "    [theme=dark] .colab-df-convert {\n",
              "      background-color: #3B4455;\n",
              "      fill: #D2E3FC;\n",
              "    }\n",
              "\n",
              "    [theme=dark] .colab-df-convert:hover {\n",
              "      background-color: #434B5C;\n",
              "      box-shadow: 0px 1px 3px 1px rgba(0, 0, 0, 0.15);\n",
              "      filter: drop-shadow(0px 1px 2px rgba(0, 0, 0, 0.3));\n",
              "      fill: #FFFFFF;\n",
              "    }\n",
              "  </style>\n",
              "\n",
              "      <script>\n",
              "        const buttonEl =\n",
              "          document.querySelector('#df-82f70006-1534-4043-8401-afbbc703f83f button.colab-df-convert');\n",
              "        buttonEl.style.display =\n",
              "          google.colab.kernel.accessAllowed ? 'block' : 'none';\n",
              "\n",
              "        async function convertToInteractive(key) {\n",
              "          const element = document.querySelector('#df-82f70006-1534-4043-8401-afbbc703f83f');\n",
              "          const dataTable =\n",
              "            await google.colab.kernel.invokeFunction('convertToInteractive',\n",
              "                                                     [key], {});\n",
              "          if (!dataTable) return;\n",
              "\n",
              "          const docLinkHtml = 'Like what you see? Visit the ' +\n",
              "            '<a target=\"_blank\" href=https://colab.research.google.com/notebooks/data_table.ipynb>data table notebook</a>'\n",
              "            + ' to learn more about interactive tables.';\n",
              "          element.innerHTML = '';\n",
              "          dataTable['output_type'] = 'display_data';\n",
              "          await google.colab.output.renderOutput(dataTable, element);\n",
              "          const docLink = document.createElement('div');\n",
              "          docLink.innerHTML = docLinkHtml;\n",
              "          element.appendChild(docLink);\n",
              "        }\n",
              "      </script>\n",
              "    </div>\n",
              "  </div>\n",
              "  "
            ]
          },
          "metadata": {},
          "execution_count": 29
        }
      ]
    },
    {
      "cell_type": "code",
      "execution_count": null,
      "metadata": {
        "colab": {
          "base_uri": "https://localhost:8080/"
        },
        "id": "aCWWYJsADOQ8",
        "outputId": "97e3e8ad-c150-4f16-da7b-237543fef0e7"
      },
      "outputs": [
        {
          "output_type": "stream",
          "name": "stdout",
          "text": [
            "SPY Data Shape:  (3201, 7)\n"
          ]
        }
      ],
      "source": [
        "print(\"SPY Data Shape: \", df_Spy.shape)"
      ]
    },
    {
      "cell_type": "code",
      "source": [
        "print(\"BAC Data Shape: \", df_Bac.shape)"
      ],
      "metadata": {
        "colab": {
          "base_uri": "https://localhost:8080/"
        },
        "id": "GrWSskxtjeiJ",
        "outputId": "d38697fe-9d75-40d0-c9f1-1c1e656967be"
      },
      "execution_count": null,
      "outputs": [
        {
          "output_type": "stream",
          "name": "stdout",
          "text": [
            "BAC Data Shape:  (7929, 7)\n"
          ]
        }
      ]
    },
    {
      "cell_type": "code",
      "source": [
        "print(\"WMT Data Shape: \", df_Wmt.shape)"
      ],
      "metadata": {
        "colab": {
          "base_uri": "https://localhost:8080/"
        },
        "id": "9OxQ7diJj2-I",
        "outputId": "0a9c3c37-6208-47f6-8f37-485639bc6cd9"
      },
      "execution_count": null,
      "outputs": [
        {
          "output_type": "stream",
          "name": "stdout",
          "text": [
            "WMT Data Shape:  (11443, 7)\n"
          ]
        }
      ]
    },
    {
      "cell_type": "code",
      "execution_count": null,
      "metadata": {
        "colab": {
          "base_uri": "https://localhost:8080/",
          "height": 300
        },
        "id": "H5pUuLXMiyY3",
        "outputId": "dd3cc5c8-31d2-4a6a-a944-24ee0e3ff5a8"
      },
      "outputs": [
        {
          "output_type": "execute_result",
          "data": {
            "text/plain": [
              "              Open         High          Low        Close        Volume  \\\n",
              "count  3201.000000  3201.000000  3201.000000  3201.000000  3.201000e+03   \n",
              "mean    141.258585   142.007112   140.437356   141.275289  1.680534e+08   \n",
              "std      46.507791    46.491560    46.535443    46.534009  1.180913e+08   \n",
              "min      59.195000    60.982000    58.455000    59.334000  1.752828e+07   \n",
              "25%     107.810000   108.380000   107.010000   107.720000  8.523352e+07   \n",
              "50%     123.610000   124.250000   122.730000   123.550000  1.336313e+08   \n",
              "75%     183.680000   184.870000   182.450000   183.700000  2.131654e+08   \n",
              "max     258.970000   259.350000   258.220000   259.110000  1.000440e+09   \n",
              "\n",
              "       OpenInt  \n",
              "count   3201.0  \n",
              "mean       0.0  \n",
              "std        0.0  \n",
              "min        0.0  \n",
              "25%        0.0  \n",
              "50%        0.0  \n",
              "75%        0.0  \n",
              "max        0.0  "
            ],
            "text/html": [
              "\n",
              "  <div id=\"df-520fd4f4-c13a-483d-88ea-93922004734a\">\n",
              "    <div class=\"colab-df-container\">\n",
              "      <div>\n",
              "<style scoped>\n",
              "    .dataframe tbody tr th:only-of-type {\n",
              "        vertical-align: middle;\n",
              "    }\n",
              "\n",
              "    .dataframe tbody tr th {\n",
              "        vertical-align: top;\n",
              "    }\n",
              "\n",
              "    .dataframe thead th {\n",
              "        text-align: right;\n",
              "    }\n",
              "</style>\n",
              "<table border=\"1\" class=\"dataframe\">\n",
              "  <thead>\n",
              "    <tr style=\"text-align: right;\">\n",
              "      <th></th>\n",
              "      <th>Open</th>\n",
              "      <th>High</th>\n",
              "      <th>Low</th>\n",
              "      <th>Close</th>\n",
              "      <th>Volume</th>\n",
              "      <th>OpenInt</th>\n",
              "    </tr>\n",
              "  </thead>\n",
              "  <tbody>\n",
              "    <tr>\n",
              "      <th>count</th>\n",
              "      <td>3201.000000</td>\n",
              "      <td>3201.000000</td>\n",
              "      <td>3201.000000</td>\n",
              "      <td>3201.000000</td>\n",
              "      <td>3.201000e+03</td>\n",
              "      <td>3201.0</td>\n",
              "    </tr>\n",
              "    <tr>\n",
              "      <th>mean</th>\n",
              "      <td>141.258585</td>\n",
              "      <td>142.007112</td>\n",
              "      <td>140.437356</td>\n",
              "      <td>141.275289</td>\n",
              "      <td>1.680534e+08</td>\n",
              "      <td>0.0</td>\n",
              "    </tr>\n",
              "    <tr>\n",
              "      <th>std</th>\n",
              "      <td>46.507791</td>\n",
              "      <td>46.491560</td>\n",
              "      <td>46.535443</td>\n",
              "      <td>46.534009</td>\n",
              "      <td>1.180913e+08</td>\n",
              "      <td>0.0</td>\n",
              "    </tr>\n",
              "    <tr>\n",
              "      <th>min</th>\n",
              "      <td>59.195000</td>\n",
              "      <td>60.982000</td>\n",
              "      <td>58.455000</td>\n",
              "      <td>59.334000</td>\n",
              "      <td>1.752828e+07</td>\n",
              "      <td>0.0</td>\n",
              "    </tr>\n",
              "    <tr>\n",
              "      <th>25%</th>\n",
              "      <td>107.810000</td>\n",
              "      <td>108.380000</td>\n",
              "      <td>107.010000</td>\n",
              "      <td>107.720000</td>\n",
              "      <td>8.523352e+07</td>\n",
              "      <td>0.0</td>\n",
              "    </tr>\n",
              "    <tr>\n",
              "      <th>50%</th>\n",
              "      <td>123.610000</td>\n",
              "      <td>124.250000</td>\n",
              "      <td>122.730000</td>\n",
              "      <td>123.550000</td>\n",
              "      <td>1.336313e+08</td>\n",
              "      <td>0.0</td>\n",
              "    </tr>\n",
              "    <tr>\n",
              "      <th>75%</th>\n",
              "      <td>183.680000</td>\n",
              "      <td>184.870000</td>\n",
              "      <td>182.450000</td>\n",
              "      <td>183.700000</td>\n",
              "      <td>2.131654e+08</td>\n",
              "      <td>0.0</td>\n",
              "    </tr>\n",
              "    <tr>\n",
              "      <th>max</th>\n",
              "      <td>258.970000</td>\n",
              "      <td>259.350000</td>\n",
              "      <td>258.220000</td>\n",
              "      <td>259.110000</td>\n",
              "      <td>1.000440e+09</td>\n",
              "      <td>0.0</td>\n",
              "    </tr>\n",
              "  </tbody>\n",
              "</table>\n",
              "</div>\n",
              "      <button class=\"colab-df-convert\" onclick=\"convertToInteractive('df-520fd4f4-c13a-483d-88ea-93922004734a')\"\n",
              "              title=\"Convert this dataframe to an interactive table.\"\n",
              "              style=\"display:none;\">\n",
              "        \n",
              "  <svg xmlns=\"http://www.w3.org/2000/svg\" height=\"24px\"viewBox=\"0 0 24 24\"\n",
              "       width=\"24px\">\n",
              "    <path d=\"M0 0h24v24H0V0z\" fill=\"none\"/>\n",
              "    <path d=\"M18.56 5.44l.94 2.06.94-2.06 2.06-.94-2.06-.94-.94-2.06-.94 2.06-2.06.94zm-11 1L8.5 8.5l.94-2.06 2.06-.94-2.06-.94L8.5 2.5l-.94 2.06-2.06.94zm10 10l.94 2.06.94-2.06 2.06-.94-2.06-.94-.94-2.06-.94 2.06-2.06.94z\"/><path d=\"M17.41 7.96l-1.37-1.37c-.4-.4-.92-.59-1.43-.59-.52 0-1.04.2-1.43.59L10.3 9.45l-7.72 7.72c-.78.78-.78 2.05 0 2.83L4 21.41c.39.39.9.59 1.41.59.51 0 1.02-.2 1.41-.59l7.78-7.78 2.81-2.81c.8-.78.8-2.07 0-2.86zM5.41 20L4 18.59l7.72-7.72 1.47 1.35L5.41 20z\"/>\n",
              "  </svg>\n",
              "      </button>\n",
              "      \n",
              "  <style>\n",
              "    .colab-df-container {\n",
              "      display:flex;\n",
              "      flex-wrap:wrap;\n",
              "      gap: 12px;\n",
              "    }\n",
              "\n",
              "    .colab-df-convert {\n",
              "      background-color: #E8F0FE;\n",
              "      border: none;\n",
              "      border-radius: 50%;\n",
              "      cursor: pointer;\n",
              "      display: none;\n",
              "      fill: #1967D2;\n",
              "      height: 32px;\n",
              "      padding: 0 0 0 0;\n",
              "      width: 32px;\n",
              "    }\n",
              "\n",
              "    .colab-df-convert:hover {\n",
              "      background-color: #E2EBFA;\n",
              "      box-shadow: 0px 1px 2px rgba(60, 64, 67, 0.3), 0px 1px 3px 1px rgba(60, 64, 67, 0.15);\n",
              "      fill: #174EA6;\n",
              "    }\n",
              "\n",
              "    [theme=dark] .colab-df-convert {\n",
              "      background-color: #3B4455;\n",
              "      fill: #D2E3FC;\n",
              "    }\n",
              "\n",
              "    [theme=dark] .colab-df-convert:hover {\n",
              "      background-color: #434B5C;\n",
              "      box-shadow: 0px 1px 3px 1px rgba(0, 0, 0, 0.15);\n",
              "      filter: drop-shadow(0px 1px 2px rgba(0, 0, 0, 0.3));\n",
              "      fill: #FFFFFF;\n",
              "    }\n",
              "  </style>\n",
              "\n",
              "      <script>\n",
              "        const buttonEl =\n",
              "          document.querySelector('#df-520fd4f4-c13a-483d-88ea-93922004734a button.colab-df-convert');\n",
              "        buttonEl.style.display =\n",
              "          google.colab.kernel.accessAllowed ? 'block' : 'none';\n",
              "\n",
              "        async function convertToInteractive(key) {\n",
              "          const element = document.querySelector('#df-520fd4f4-c13a-483d-88ea-93922004734a');\n",
              "          const dataTable =\n",
              "            await google.colab.kernel.invokeFunction('convertToInteractive',\n",
              "                                                     [key], {});\n",
              "          if (!dataTable) return;\n",
              "\n",
              "          const docLinkHtml = 'Like what you see? Visit the ' +\n",
              "            '<a target=\"_blank\" href=https://colab.research.google.com/notebooks/data_table.ipynb>data table notebook</a>'\n",
              "            + ' to learn more about interactive tables.';\n",
              "          element.innerHTML = '';\n",
              "          dataTable['output_type'] = 'display_data';\n",
              "          await google.colab.output.renderOutput(dataTable, element);\n",
              "          const docLink = document.createElement('div');\n",
              "          docLink.innerHTML = docLinkHtml;\n",
              "          element.appendChild(docLink);\n",
              "        }\n",
              "      </script>\n",
              "    </div>\n",
              "  </div>\n",
              "  "
            ]
          },
          "metadata": {},
          "execution_count": 5
        }
      ],
      "source": [
        "df_Spy.describe()"
      ]
    },
    {
      "cell_type": "code",
      "source": [
        "df_Bac.describe()"
      ],
      "metadata": {
        "colab": {
          "base_uri": "https://localhost:8080/",
          "height": 300
        },
        "id": "idm5L6gSkJzK",
        "outputId": "7b1de355-ce34-4e3a-f841-94eaedb41ced"
      },
      "execution_count": null,
      "outputs": [
        {
          "output_type": "execute_result",
          "data": {
            "text/plain": [
              "              Open         High          Low        Close        Volume  \\\n",
              "count  7929.000000  7929.000000  7929.000000  7929.000000  7.929000e+03   \n",
              "mean     18.887528    19.104507    18.663544    18.883879  5.441999e+07   \n",
              "std      13.094110    13.198901    12.988605    13.093593  1.027980e+08   \n",
              "min       2.281400     2.347600     2.177700     2.309600  0.000000e+00   \n",
              "25%       8.088900     8.173800     7.975600     8.088900  2.700149e+06   \n",
              "50%      15.169000    15.355000    15.018000    15.169000  1.063512e+07   \n",
              "75%      26.984000    27.445000    26.623000    27.058000  7.076684e+07   \n",
              "max      51.890000    51.928000    51.683000    51.757000  2.423735e+09   \n",
              "\n",
              "       OpenInt  \n",
              "count   7929.0  \n",
              "mean       0.0  \n",
              "std        0.0  \n",
              "min        0.0  \n",
              "25%        0.0  \n",
              "50%        0.0  \n",
              "75%        0.0  \n",
              "max        0.0  "
            ],
            "text/html": [
              "\n",
              "  <div id=\"df-47ce0569-9736-4907-ba3d-6ba50c5a69ac\">\n",
              "    <div class=\"colab-df-container\">\n",
              "      <div>\n",
              "<style scoped>\n",
              "    .dataframe tbody tr th:only-of-type {\n",
              "        vertical-align: middle;\n",
              "    }\n",
              "\n",
              "    .dataframe tbody tr th {\n",
              "        vertical-align: top;\n",
              "    }\n",
              "\n",
              "    .dataframe thead th {\n",
              "        text-align: right;\n",
              "    }\n",
              "</style>\n",
              "<table border=\"1\" class=\"dataframe\">\n",
              "  <thead>\n",
              "    <tr style=\"text-align: right;\">\n",
              "      <th></th>\n",
              "      <th>Open</th>\n",
              "      <th>High</th>\n",
              "      <th>Low</th>\n",
              "      <th>Close</th>\n",
              "      <th>Volume</th>\n",
              "      <th>OpenInt</th>\n",
              "    </tr>\n",
              "  </thead>\n",
              "  <tbody>\n",
              "    <tr>\n",
              "      <th>count</th>\n",
              "      <td>7929.000000</td>\n",
              "      <td>7929.000000</td>\n",
              "      <td>7929.000000</td>\n",
              "      <td>7929.000000</td>\n",
              "      <td>7.929000e+03</td>\n",
              "      <td>7929.0</td>\n",
              "    </tr>\n",
              "    <tr>\n",
              "      <th>mean</th>\n",
              "      <td>18.887528</td>\n",
              "      <td>19.104507</td>\n",
              "      <td>18.663544</td>\n",
              "      <td>18.883879</td>\n",
              "      <td>5.441999e+07</td>\n",
              "      <td>0.0</td>\n",
              "    </tr>\n",
              "    <tr>\n",
              "      <th>std</th>\n",
              "      <td>13.094110</td>\n",
              "      <td>13.198901</td>\n",
              "      <td>12.988605</td>\n",
              "      <td>13.093593</td>\n",
              "      <td>1.027980e+08</td>\n",
              "      <td>0.0</td>\n",
              "    </tr>\n",
              "    <tr>\n",
              "      <th>min</th>\n",
              "      <td>2.281400</td>\n",
              "      <td>2.347600</td>\n",
              "      <td>2.177700</td>\n",
              "      <td>2.309600</td>\n",
              "      <td>0.000000e+00</td>\n",
              "      <td>0.0</td>\n",
              "    </tr>\n",
              "    <tr>\n",
              "      <th>25%</th>\n",
              "      <td>8.088900</td>\n",
              "      <td>8.173800</td>\n",
              "      <td>7.975600</td>\n",
              "      <td>8.088900</td>\n",
              "      <td>2.700149e+06</td>\n",
              "      <td>0.0</td>\n",
              "    </tr>\n",
              "    <tr>\n",
              "      <th>50%</th>\n",
              "      <td>15.169000</td>\n",
              "      <td>15.355000</td>\n",
              "      <td>15.018000</td>\n",
              "      <td>15.169000</td>\n",
              "      <td>1.063512e+07</td>\n",
              "      <td>0.0</td>\n",
              "    </tr>\n",
              "    <tr>\n",
              "      <th>75%</th>\n",
              "      <td>26.984000</td>\n",
              "      <td>27.445000</td>\n",
              "      <td>26.623000</td>\n",
              "      <td>27.058000</td>\n",
              "      <td>7.076684e+07</td>\n",
              "      <td>0.0</td>\n",
              "    </tr>\n",
              "    <tr>\n",
              "      <th>max</th>\n",
              "      <td>51.890000</td>\n",
              "      <td>51.928000</td>\n",
              "      <td>51.683000</td>\n",
              "      <td>51.757000</td>\n",
              "      <td>2.423735e+09</td>\n",
              "      <td>0.0</td>\n",
              "    </tr>\n",
              "  </tbody>\n",
              "</table>\n",
              "</div>\n",
              "      <button class=\"colab-df-convert\" onclick=\"convertToInteractive('df-47ce0569-9736-4907-ba3d-6ba50c5a69ac')\"\n",
              "              title=\"Convert this dataframe to an interactive table.\"\n",
              "              style=\"display:none;\">\n",
              "        \n",
              "  <svg xmlns=\"http://www.w3.org/2000/svg\" height=\"24px\"viewBox=\"0 0 24 24\"\n",
              "       width=\"24px\">\n",
              "    <path d=\"M0 0h24v24H0V0z\" fill=\"none\"/>\n",
              "    <path d=\"M18.56 5.44l.94 2.06.94-2.06 2.06-.94-2.06-.94-.94-2.06-.94 2.06-2.06.94zm-11 1L8.5 8.5l.94-2.06 2.06-.94-2.06-.94L8.5 2.5l-.94 2.06-2.06.94zm10 10l.94 2.06.94-2.06 2.06-.94-2.06-.94-.94-2.06-.94 2.06-2.06.94z\"/><path d=\"M17.41 7.96l-1.37-1.37c-.4-.4-.92-.59-1.43-.59-.52 0-1.04.2-1.43.59L10.3 9.45l-7.72 7.72c-.78.78-.78 2.05 0 2.83L4 21.41c.39.39.9.59 1.41.59.51 0 1.02-.2 1.41-.59l7.78-7.78 2.81-2.81c.8-.78.8-2.07 0-2.86zM5.41 20L4 18.59l7.72-7.72 1.47 1.35L5.41 20z\"/>\n",
              "  </svg>\n",
              "      </button>\n",
              "      \n",
              "  <style>\n",
              "    .colab-df-container {\n",
              "      display:flex;\n",
              "      flex-wrap:wrap;\n",
              "      gap: 12px;\n",
              "    }\n",
              "\n",
              "    .colab-df-convert {\n",
              "      background-color: #E8F0FE;\n",
              "      border: none;\n",
              "      border-radius: 50%;\n",
              "      cursor: pointer;\n",
              "      display: none;\n",
              "      fill: #1967D2;\n",
              "      height: 32px;\n",
              "      padding: 0 0 0 0;\n",
              "      width: 32px;\n",
              "    }\n",
              "\n",
              "    .colab-df-convert:hover {\n",
              "      background-color: #E2EBFA;\n",
              "      box-shadow: 0px 1px 2px rgba(60, 64, 67, 0.3), 0px 1px 3px 1px rgba(60, 64, 67, 0.15);\n",
              "      fill: #174EA6;\n",
              "    }\n",
              "\n",
              "    [theme=dark] .colab-df-convert {\n",
              "      background-color: #3B4455;\n",
              "      fill: #D2E3FC;\n",
              "    }\n",
              "\n",
              "    [theme=dark] .colab-df-convert:hover {\n",
              "      background-color: #434B5C;\n",
              "      box-shadow: 0px 1px 3px 1px rgba(0, 0, 0, 0.15);\n",
              "      filter: drop-shadow(0px 1px 2px rgba(0, 0, 0, 0.3));\n",
              "      fill: #FFFFFF;\n",
              "    }\n",
              "  </style>\n",
              "\n",
              "      <script>\n",
              "        const buttonEl =\n",
              "          document.querySelector('#df-47ce0569-9736-4907-ba3d-6ba50c5a69ac button.colab-df-convert');\n",
              "        buttonEl.style.display =\n",
              "          google.colab.kernel.accessAllowed ? 'block' : 'none';\n",
              "\n",
              "        async function convertToInteractive(key) {\n",
              "          const element = document.querySelector('#df-47ce0569-9736-4907-ba3d-6ba50c5a69ac');\n",
              "          const dataTable =\n",
              "            await google.colab.kernel.invokeFunction('convertToInteractive',\n",
              "                                                     [key], {});\n",
              "          if (!dataTable) return;\n",
              "\n",
              "          const docLinkHtml = 'Like what you see? Visit the ' +\n",
              "            '<a target=\"_blank\" href=https://colab.research.google.com/notebooks/data_table.ipynb>data table notebook</a>'\n",
              "            + ' to learn more about interactive tables.';\n",
              "          element.innerHTML = '';\n",
              "          dataTable['output_type'] = 'display_data';\n",
              "          await google.colab.output.renderOutput(dataTable, element);\n",
              "          const docLink = document.createElement('div');\n",
              "          docLink.innerHTML = docLinkHtml;\n",
              "          element.appendChild(docLink);\n",
              "        }\n",
              "      </script>\n",
              "    </div>\n",
              "  </div>\n",
              "  "
            ]
          },
          "metadata": {},
          "execution_count": 35
        }
      ]
    },
    {
      "cell_type": "code",
      "source": [
        "df_Wmt.describe()"
      ],
      "metadata": {
        "colab": {
          "base_uri": "https://localhost:8080/",
          "height": 300
        },
        "id": "mMkNeJbvkPtJ",
        "outputId": "1d1d5898-a6b3-4472-ca3e-a59051d75634"
      },
      "execution_count": null,
      "outputs": [
        {
          "output_type": "execute_result",
          "data": {
            "text/plain": [
              "               Open          High           Low         Close        Volume  \\\n",
              "count  11443.000000  11443.000000  11443.000000  11443.000000  1.144300e+04   \n",
              "mean      23.999115     24.227797     23.769176     24.003380  8.656755e+06   \n",
              "std       24.807570     25.011432     24.613717     24.815602  7.417169e+06   \n",
              "min        0.008210      0.008210      0.008210      0.008210  0.000000e+00   \n",
              "25%        0.901100      0.917800      0.892500      0.901100  4.275366e+06   \n",
              "50%       10.744000     10.848000     10.617000     10.735000  7.097376e+06   \n",
              "75%       45.094000     45.533500     44.652000     45.080500  1.097780e+07   \n",
              "max       90.240000     91.690000     90.200000     90.920000  1.550925e+08   \n",
              "\n",
              "       OpenInt  \n",
              "count  11443.0  \n",
              "mean       0.0  \n",
              "std        0.0  \n",
              "min        0.0  \n",
              "25%        0.0  \n",
              "50%        0.0  \n",
              "75%        0.0  \n",
              "max        0.0  "
            ],
            "text/html": [
              "\n",
              "  <div id=\"df-c73a1178-d6da-4025-a89e-73dbaa78c2a0\">\n",
              "    <div class=\"colab-df-container\">\n",
              "      <div>\n",
              "<style scoped>\n",
              "    .dataframe tbody tr th:only-of-type {\n",
              "        vertical-align: middle;\n",
              "    }\n",
              "\n",
              "    .dataframe tbody tr th {\n",
              "        vertical-align: top;\n",
              "    }\n",
              "\n",
              "    .dataframe thead th {\n",
              "        text-align: right;\n",
              "    }\n",
              "</style>\n",
              "<table border=\"1\" class=\"dataframe\">\n",
              "  <thead>\n",
              "    <tr style=\"text-align: right;\">\n",
              "      <th></th>\n",
              "      <th>Open</th>\n",
              "      <th>High</th>\n",
              "      <th>Low</th>\n",
              "      <th>Close</th>\n",
              "      <th>Volume</th>\n",
              "      <th>OpenInt</th>\n",
              "    </tr>\n",
              "  </thead>\n",
              "  <tbody>\n",
              "    <tr>\n",
              "      <th>count</th>\n",
              "      <td>11443.000000</td>\n",
              "      <td>11443.000000</td>\n",
              "      <td>11443.000000</td>\n",
              "      <td>11443.000000</td>\n",
              "      <td>1.144300e+04</td>\n",
              "      <td>11443.0</td>\n",
              "    </tr>\n",
              "    <tr>\n",
              "      <th>mean</th>\n",
              "      <td>23.999115</td>\n",
              "      <td>24.227797</td>\n",
              "      <td>23.769176</td>\n",
              "      <td>24.003380</td>\n",
              "      <td>8.656755e+06</td>\n",
              "      <td>0.0</td>\n",
              "    </tr>\n",
              "    <tr>\n",
              "      <th>std</th>\n",
              "      <td>24.807570</td>\n",
              "      <td>25.011432</td>\n",
              "      <td>24.613717</td>\n",
              "      <td>24.815602</td>\n",
              "      <td>7.417169e+06</td>\n",
              "      <td>0.0</td>\n",
              "    </tr>\n",
              "    <tr>\n",
              "      <th>min</th>\n",
              "      <td>0.008210</td>\n",
              "      <td>0.008210</td>\n",
              "      <td>0.008210</td>\n",
              "      <td>0.008210</td>\n",
              "      <td>0.000000e+00</td>\n",
              "      <td>0.0</td>\n",
              "    </tr>\n",
              "    <tr>\n",
              "      <th>25%</th>\n",
              "      <td>0.901100</td>\n",
              "      <td>0.917800</td>\n",
              "      <td>0.892500</td>\n",
              "      <td>0.901100</td>\n",
              "      <td>4.275366e+06</td>\n",
              "      <td>0.0</td>\n",
              "    </tr>\n",
              "    <tr>\n",
              "      <th>50%</th>\n",
              "      <td>10.744000</td>\n",
              "      <td>10.848000</td>\n",
              "      <td>10.617000</td>\n",
              "      <td>10.735000</td>\n",
              "      <td>7.097376e+06</td>\n",
              "      <td>0.0</td>\n",
              "    </tr>\n",
              "    <tr>\n",
              "      <th>75%</th>\n",
              "      <td>45.094000</td>\n",
              "      <td>45.533500</td>\n",
              "      <td>44.652000</td>\n",
              "      <td>45.080500</td>\n",
              "      <td>1.097780e+07</td>\n",
              "      <td>0.0</td>\n",
              "    </tr>\n",
              "    <tr>\n",
              "      <th>max</th>\n",
              "      <td>90.240000</td>\n",
              "      <td>91.690000</td>\n",
              "      <td>90.200000</td>\n",
              "      <td>90.920000</td>\n",
              "      <td>1.550925e+08</td>\n",
              "      <td>0.0</td>\n",
              "    </tr>\n",
              "  </tbody>\n",
              "</table>\n",
              "</div>\n",
              "      <button class=\"colab-df-convert\" onclick=\"convertToInteractive('df-c73a1178-d6da-4025-a89e-73dbaa78c2a0')\"\n",
              "              title=\"Convert this dataframe to an interactive table.\"\n",
              "              style=\"display:none;\">\n",
              "        \n",
              "  <svg xmlns=\"http://www.w3.org/2000/svg\" height=\"24px\"viewBox=\"0 0 24 24\"\n",
              "       width=\"24px\">\n",
              "    <path d=\"M0 0h24v24H0V0z\" fill=\"none\"/>\n",
              "    <path d=\"M18.56 5.44l.94 2.06.94-2.06 2.06-.94-2.06-.94-.94-2.06-.94 2.06-2.06.94zm-11 1L8.5 8.5l.94-2.06 2.06-.94-2.06-.94L8.5 2.5l-.94 2.06-2.06.94zm10 10l.94 2.06.94-2.06 2.06-.94-2.06-.94-.94-2.06-.94 2.06-2.06.94z\"/><path d=\"M17.41 7.96l-1.37-1.37c-.4-.4-.92-.59-1.43-.59-.52 0-1.04.2-1.43.59L10.3 9.45l-7.72 7.72c-.78.78-.78 2.05 0 2.83L4 21.41c.39.39.9.59 1.41.59.51 0 1.02-.2 1.41-.59l7.78-7.78 2.81-2.81c.8-.78.8-2.07 0-2.86zM5.41 20L4 18.59l7.72-7.72 1.47 1.35L5.41 20z\"/>\n",
              "  </svg>\n",
              "      </button>\n",
              "      \n",
              "  <style>\n",
              "    .colab-df-container {\n",
              "      display:flex;\n",
              "      flex-wrap:wrap;\n",
              "      gap: 12px;\n",
              "    }\n",
              "\n",
              "    .colab-df-convert {\n",
              "      background-color: #E8F0FE;\n",
              "      border: none;\n",
              "      border-radius: 50%;\n",
              "      cursor: pointer;\n",
              "      display: none;\n",
              "      fill: #1967D2;\n",
              "      height: 32px;\n",
              "      padding: 0 0 0 0;\n",
              "      width: 32px;\n",
              "    }\n",
              "\n",
              "    .colab-df-convert:hover {\n",
              "      background-color: #E2EBFA;\n",
              "      box-shadow: 0px 1px 2px rgba(60, 64, 67, 0.3), 0px 1px 3px 1px rgba(60, 64, 67, 0.15);\n",
              "      fill: #174EA6;\n",
              "    }\n",
              "\n",
              "    [theme=dark] .colab-df-convert {\n",
              "      background-color: #3B4455;\n",
              "      fill: #D2E3FC;\n",
              "    }\n",
              "\n",
              "    [theme=dark] .colab-df-convert:hover {\n",
              "      background-color: #434B5C;\n",
              "      box-shadow: 0px 1px 3px 1px rgba(0, 0, 0, 0.15);\n",
              "      filter: drop-shadow(0px 1px 2px rgba(0, 0, 0, 0.3));\n",
              "      fill: #FFFFFF;\n",
              "    }\n",
              "  </style>\n",
              "\n",
              "      <script>\n",
              "        const buttonEl =\n",
              "          document.querySelector('#df-c73a1178-d6da-4025-a89e-73dbaa78c2a0 button.colab-df-convert');\n",
              "        buttonEl.style.display =\n",
              "          google.colab.kernel.accessAllowed ? 'block' : 'none';\n",
              "\n",
              "        async function convertToInteractive(key) {\n",
              "          const element = document.querySelector('#df-c73a1178-d6da-4025-a89e-73dbaa78c2a0');\n",
              "          const dataTable =\n",
              "            await google.colab.kernel.invokeFunction('convertToInteractive',\n",
              "                                                     [key], {});\n",
              "          if (!dataTable) return;\n",
              "\n",
              "          const docLinkHtml = 'Like what you see? Visit the ' +\n",
              "            '<a target=\"_blank\" href=https://colab.research.google.com/notebooks/data_table.ipynb>data table notebook</a>'\n",
              "            + ' to learn more about interactive tables.';\n",
              "          element.innerHTML = '';\n",
              "          dataTable['output_type'] = 'display_data';\n",
              "          await google.colab.output.renderOutput(dataTable, element);\n",
              "          const docLink = document.createElement('div');\n",
              "          docLink.innerHTML = docLinkHtml;\n",
              "          element.appendChild(docLink);\n",
              "        }\n",
              "      </script>\n",
              "    </div>\n",
              "  </div>\n",
              "  "
            ]
          },
          "metadata": {},
          "execution_count": 36
        }
      ]
    },
    {
      "cell_type": "code",
      "execution_count": null,
      "metadata": {
        "colab": {
          "base_uri": "https://localhost:8080/"
        },
        "id": "VHumTpGUMKyh",
        "outputId": "dba8fb08-f18b-4080-95cd-0a17a992f12b"
      },
      "outputs": [
        {
          "output_type": "stream",
          "name": "stdout",
          "text": [
            "Null Column:\n",
            " Date       0\n",
            "Open       0\n",
            "High       0\n",
            "Low        0\n",
            "Close      0\n",
            "Volume     0\n",
            "OpenInt    0\n",
            "dtype: int64\n"
          ]
        }
      ],
      "source": [
        "print(\"Null Column:\\n\", df_Spy.isna().sum())"
      ]
    },
    {
      "cell_type": "markdown",
      "metadata": {
        "id": "9ZjOyHtom6d1"
      },
      "source": [
        "<h1>Preprocessing Data"
      ]
    },
    {
      "cell_type": "code",
      "execution_count": null,
      "metadata": {
        "id": "FBCEDOOhmVrq"
      },
      "outputs": [],
      "source": [
        "spy_train_size = int(len(df_Spy)*0.80)\n",
        "spy_dataLen = len(df_Spy)\n",
        "train_Spy, test_Spy = df_Spy[0:spy_train_size],df_Spy[spy_train_size:spy_dataLen]"
      ]
    },
    {
      "cell_type": "code",
      "execution_count": null,
      "metadata": {
        "colab": {
          "base_uri": "https://localhost:8080/"
        },
        "id": "ODZz3FAnnBgX",
        "outputId": "56059dde-3bd9-4d6c-d70b-f7a96465a666"
      },
      "outputs": [
        {
          "output_type": "stream",
          "name": "stdout",
          "text": [
            "Training Size:  2560\n",
            "total length of data:  3201\n",
            "Train length:  2560\n",
            "Test length:  641\n"
          ]
        }
      ],
      "source": [
        "print(\"Training Size: \", spy_train_size)\n",
        "print(\"total length of data: \", spy_dataLen)\n",
        "print(\"Train length: \", len(train_Spy))\n",
        "print(\"Test length: \", len(test_Spy))"
      ]
    },
    {
      "cell_type": "code",
      "source": [
        "bac_train_size = int(len(df_Bac)*0.80)\n",
        "bac_dataLen = len(df_Bac)\n",
        "train_bac, test_bac = df_Bac[0:bac_train_size], df_Bac[bac_train_size:bac_dataLen]"
      ],
      "metadata": {
        "id": "G-mBugwJmhJG"
      },
      "execution_count": null,
      "outputs": []
    },
    {
      "cell_type": "code",
      "source": [
        "print(\"Training Size: \", bac_train_size)\n",
        "print(\"total length of data: \", bac_dataLen)\n",
        "print(\"Train length: \", len(train_bac))\n",
        "print(\"Test length: \", len(test_bac))"
      ],
      "metadata": {
        "colab": {
          "base_uri": "https://localhost:8080/"
        },
        "id": "l0CSSbK8mhi8",
        "outputId": "0515597d-0dad-4545-ccee-ed97bfcf7f26"
      },
      "execution_count": null,
      "outputs": [
        {
          "output_type": "stream",
          "name": "stdout",
          "text": [
            "Training Size:  6343\n",
            "total length of data:  7929\n",
            "Train length:  6343\n",
            "Test length:  1586\n"
          ]
        }
      ]
    },
    {
      "cell_type": "code",
      "source": [
        "wmt_train_size = int(len(df_Wmt)*0.80)\n",
        "wmt_dataLen = len(df_Wmt)\n",
        "train_wmt, test_wmt = df_Wmt[0:wmt_train_size], df_Wmt[wmt_train_size:wmt_dataLen]"
      ],
      "metadata": {
        "id": "iragzGb4q5lc"
      },
      "execution_count": null,
      "outputs": []
    },
    {
      "cell_type": "code",
      "source": [
        "print(\"Training Size: \", wmt_train_size)\n",
        "print(\"total length of data: \", wmt_dataLen)\n",
        "print(\"Train length: \", len(train_wmt))\n",
        "print(\"Test length: \", len(test_wmt))"
      ],
      "metadata": {
        "colab": {
          "base_uri": "https://localhost:8080/"
        },
        "id": "bj8-6EXSq6FH",
        "outputId": "5913d997-a8d2-40e5-9041-aaa179118234"
      },
      "execution_count": null,
      "outputs": [
        {
          "output_type": "stream",
          "name": "stdout",
          "text": [
            "Training Size:  9154\n",
            "total length of data:  11443\n",
            "Train length:  9154\n",
            "Test length:  2289\n"
          ]
        }
      ]
    },
    {
      "cell_type": "markdown",
      "metadata": {
        "id": "ZesmBbb9nhdz"
      },
      "source": [
        "<h1>Normalize The Data"
      ]
    },
    {
      "cell_type": "code",
      "execution_count": null,
      "metadata": {
        "id": "K2l4wCUDnlpi"
      },
      "outputs": [],
      "source": [
        "train_Spy1 = train_Spy.loc[:, [\"Open\"]].values\n",
        "spy_scaler = MinMaxScaler(feature_range=(0,1))\n",
        "spy_train_scaled = spy_scaler.fit_transform(train_Spy1)"
      ]
    },
    {
      "cell_type": "code",
      "execution_count": null,
      "metadata": {
        "id": "xF4CdFmyogrT"
      },
      "outputs": [],
      "source": [
        "# Split the data in X_train and y_train, use the timesteps = 40\n",
        "spy_endlen = len(spy_train_scaled)\n",
        "X_train_spy = []\n",
        "y_train_spy = []\n",
        "timesteps_spy = 40\n",
        "\n",
        "for i in range(timesteps_spy, spy_endlen):\n",
        "    X_train_spy.append(spy_train_scaled[i - timesteps_spy:i, 0])\n",
        "    y_train_spy.append(spy_train_scaled[i, 0])\n",
        "X_train_spy, y_train_spy = np.array(X_train_spy), np.array(y_train_spy)"
      ]
    },
    {
      "cell_type": "code",
      "execution_count": null,
      "metadata": {
        "colab": {
          "base_uri": "https://localhost:8080/"
        },
        "id": "p-EpWZABpwZ7",
        "outputId": "9a282f6d-570c-4695-be52-d8fef8d81827"
      },
      "outputs": [
        {
          "output_type": "stream",
          "name": "stdout",
          "text": [
            "X_train:  (2520, 40, 1)\n",
            "y_train:  (2520,)\n"
          ]
        }
      ],
      "source": [
        "X_train_spy = np.reshape(X_train_spy, (X_train_spy.shape[0], X_train_spy.shape[1], 1))\n",
        "print(\"X_train: \", X_train_spy.shape)\n",
        "print(\"y_train: \", y_train_spy.shape)"
      ]
    },
    {
      "cell_type": "code",
      "source": [
        "train_bac1 = train_bac.loc[:, [\"Open\"]].values\n",
        "bac_scaler = MinMaxScaler(feature_range=(0,1))\n",
        "bac_train_scaled = bac_scaler.fit_transform(train_bac1)\n",
        "\n",
        "\n",
        "bac_endlen = len(bac_train_scaled)\n",
        "X_train_bac = []\n",
        "y_train_bac = []\n",
        "timesteps_bac = 40\n",
        "\n",
        "for i in range(timesteps_bac, bac_endlen):\n",
        "    X_train_bac.append(bac_train_scaled[i - timesteps_bac:i, 0])\n",
        "    y_train_bac.append(bac_train_scaled[i, 0])\n",
        "X_train_bac, y_train_bac = np.array(X_train_bac), np.array(y_train_bac)\n",
        "\n",
        "X_train_bac = np.reshape(X_train_bac, (X_train_bac.shape[0], X_train_bac.shape[1], 1))\n",
        "print(\"X_train: \", X_train_bac.shape)\n",
        "print(\"y_train: \", y_train_bac.shape)"
      ],
      "metadata": {
        "colab": {
          "base_uri": "https://localhost:8080/"
        },
        "id": "HSnXuxs4sbFt",
        "outputId": "8b1fb590-213b-4ef0-9dd5-e3f6b9778102"
      },
      "execution_count": null,
      "outputs": [
        {
          "output_type": "stream",
          "name": "stdout",
          "text": [
            "X_train:  (6303, 40, 1)\n",
            "y_train:  (6303,)\n"
          ]
        }
      ]
    },
    {
      "cell_type": "code",
      "source": [
        "train_wmt1 = train_wmt.loc[:, [\"Open\"]].values\n",
        "wmt_scaler = MinMaxScaler(feature_range=(0,1))\n",
        "wmt_train_scaled = wmt_scaler.fit_transform(train_wmt1)\n",
        "\n",
        "\n",
        "wmt_endlen = len(wmt_train_scaled)\n",
        "X_train_wmt = []\n",
        "y_train_wmt = []\n",
        "timesteps_wmt = 40\n",
        "\n",
        "for i in range(timesteps_wmt, wmt_endlen):\n",
        "    X_train_wmt.append(wmt_train_scaled[i - timesteps_wmt:i, 0])\n",
        "    y_train_wmt.append(wmt_train_scaled[i, 0])\n",
        "X_train_wmt, y_train_wmt = np.array(X_train_wmt), np.array(y_train_wmt)\n",
        "\n",
        "X_train_wmt = np.reshape(X_train_wmt, (X_train_wmt.shape[0], X_train_wmt.shape[1], 1))\n",
        "print(\"X_train: \", X_train_wmt.shape)\n",
        "print(\"y_train: \", y_train_wmt.shape)"
      ],
      "metadata": {
        "colab": {
          "base_uri": "https://localhost:8080/"
        },
        "id": "BRVYBpfssbLw",
        "outputId": "cdd3d96f-c83a-40d1-f095-227c86d7396b"
      },
      "execution_count": null,
      "outputs": [
        {
          "output_type": "stream",
          "name": "stdout",
          "text": [
            "X_train:  (9114, 40, 1)\n",
            "y_train:  (9114,)\n"
          ]
        }
      ]
    },
    {
      "cell_type": "markdown",
      "metadata": {
        "id": "sjT4HVnP01__"
      },
      "source": [
        "Use Simple RNN with hyperbolic tangent and Adam's optimizer"
      ]
    },
    {
      "cell_type": "code",
      "execution_count": null,
      "metadata": {
        "id": "OS0F2GN1yls9"
      },
      "outputs": [],
      "source": [
        "regressor_spy = Sequential()\n",
        "regressor_spy.add(SimpleRNN(units = 50, activation = \"tanh\", return_sequences = True, input_shape = (X_train_spy.shape[1],1)))\n",
        "regressor_spy.add(Dropout(0.2))\n",
        "\n",
        "regressor_spy.add(SimpleRNN(units = 50, activation = \"tanh\", return_sequences = True))\n",
        "regressor_spy.add(Dropout(0.2))\n",
        "\n",
        "regressor_spy.add(SimpleRNN(units = 50, activation = \"tanh\", return_sequences = True))\n",
        "regressor_spy.add(Dropout(0.2))\n",
        "\n",
        "regressor_spy.add(SimpleRNN(units = 50))\n",
        "regressor_spy.add(Dropout(0.2))\n",
        "\n",
        "regressor_spy.add(Dense(units = 1))"
      ]
    },
    {
      "cell_type": "code",
      "source": [
        "regressor_bac = Sequential()\n",
        "regressor_bac.add(SimpleRNN(units = 50, activation = \"tanh\", return_sequences = True, input_shape = (X_train_bac.shape[1],1)))\n",
        "regressor_bac.add(Dropout(0.2))\n",
        "\n",
        "regressor_bac.add(SimpleRNN(units = 50, activation = \"tanh\", return_sequences = True))\n",
        "regressor_bac.add(Dropout(0.2))\n",
        "\n",
        "regressor_bac.add(SimpleRNN(units = 50, activation = \"tanh\", return_sequences = True))\n",
        "regressor_bac.add(Dropout(0.2))\n",
        "\n",
        "regressor_bac.add(SimpleRNN(units = 50))\n",
        "regressor_bac.add(Dropout(0.2))\n",
        "\n",
        "regressor_bac.add(Dense(units = 1))"
      ],
      "metadata": {
        "id": "z5oSzLmkt6dv"
      },
      "execution_count": null,
      "outputs": []
    },
    {
      "cell_type": "code",
      "source": [
        "regressor_wmt = Sequential()\n",
        "regressor_wmt.add(SimpleRNN(units = 50, activation = \"tanh\", return_sequences = True, input_shape = (X_train_wmt.shape[1],1)))\n",
        "regressor_wmt.add(Dropout(0.2))\n",
        "\n",
        "regressor_wmt.add(SimpleRNN(units = 50, activation = \"tanh\", return_sequences = True))\n",
        "regressor_wmt.add(Dropout(0.2))\n",
        "\n",
        "regressor_wmt.add(SimpleRNN(units = 50, activation = \"tanh\", return_sequences = True))\n",
        "regressor_wmt.add(Dropout(0.2))\n",
        "\n",
        "regressor_wmt.add(SimpleRNN(units = 50))\n",
        "regressor_wmt.add(Dropout(0.2))\n",
        "\n",
        "regressor_wmt.add(Dense(units = 1))"
      ],
      "metadata": {
        "id": "PDF5Pp5vuEaL"
      },
      "execution_count": null,
      "outputs": []
    },
    {
      "cell_type": "code",
      "execution_count": null,
      "metadata": {
        "id": "_1IBYs390zuX"
      },
      "outputs": [],
      "source": [
        "regressor_spy.compile(optimizer = \"adam\", loss = \"mean_squared_error\")"
      ]
    },
    {
      "cell_type": "code",
      "source": [
        "regressor_bac.compile(optimizer = \"Adam\", loss = \"mse\")"
      ],
      "metadata": {
        "id": "CM-WtQ_cuMhW"
      },
      "execution_count": null,
      "outputs": []
    },
    {
      "cell_type": "code",
      "source": [
        "regressor_wmt.compile(optimizer = \"Adam\", loss = \"mse\")"
      ],
      "metadata": {
        "id": "Qwx9zSTUuMWy"
      },
      "execution_count": null,
      "outputs": []
    },
    {
      "cell_type": "code",
      "execution_count": null,
      "metadata": {
        "colab": {
          "base_uri": "https://localhost:8080/"
        },
        "id": "iMtSWE3aDhov",
        "outputId": "1dc16412-d0e0-4cfd-9ba4-dd9cb768ccfa"
      },
      "outputs": [
        {
          "output_type": "stream",
          "name": "stdout",
          "text": [
            "Epoch 1/100\n",
            "126/126 [==============================] - 15s 74ms/step - loss: 0.2798\n",
            "Epoch 2/100\n",
            "126/126 [==============================] - 6s 44ms/step - loss: 0.1164\n",
            "Epoch 3/100\n",
            "126/126 [==============================] - 4s 32ms/step - loss: 0.0665\n",
            "Epoch 4/100\n",
            "126/126 [==============================] - 4s 32ms/step - loss: 0.0391\n",
            "Epoch 5/100\n",
            "126/126 [==============================] - 4s 32ms/step - loss: 0.0301\n",
            "Epoch 6/100\n",
            "126/126 [==============================] - 4s 32ms/step - loss: 0.0206\n",
            "Epoch 7/100\n",
            "126/126 [==============================] - 4s 32ms/step - loss: 0.0155\n",
            "Epoch 8/100\n",
            "126/126 [==============================] - 4s 33ms/step - loss: 0.0119\n",
            "Epoch 9/100\n",
            "126/126 [==============================] - 4s 32ms/step - loss: 0.0101\n",
            "Epoch 10/100\n",
            "126/126 [==============================] - 4s 32ms/step - loss: 0.0086\n",
            "Epoch 11/100\n",
            "126/126 [==============================] - 4s 32ms/step - loss: 0.0073\n",
            "Epoch 12/100\n",
            "126/126 [==============================] - 4s 32ms/step - loss: 0.0061\n",
            "Epoch 13/100\n",
            "126/126 [==============================] - 4s 32ms/step - loss: 0.0052\n",
            "Epoch 14/100\n",
            "126/126 [==============================] - 4s 32ms/step - loss: 0.0044\n",
            "Epoch 15/100\n",
            "126/126 [==============================] - 4s 32ms/step - loss: 0.0040\n",
            "Epoch 16/100\n",
            "126/126 [==============================] - 4s 33ms/step - loss: 0.0037\n",
            "Epoch 17/100\n",
            "126/126 [==============================] - 4s 33ms/step - loss: 0.0037\n",
            "Epoch 18/100\n",
            "126/126 [==============================] - 4s 33ms/step - loss: 0.0031\n",
            "Epoch 19/100\n",
            "126/126 [==============================] - 4s 33ms/step - loss: 0.0030\n",
            "Epoch 20/100\n",
            "126/126 [==============================] - 4s 33ms/step - loss: 0.0027\n",
            "Epoch 21/100\n",
            "126/126 [==============================] - 4s 32ms/step - loss: 0.0028\n",
            "Epoch 22/100\n",
            "126/126 [==============================] - 6s 47ms/step - loss: 0.0023\n",
            "Epoch 23/100\n",
            "126/126 [==============================] - 4s 32ms/step - loss: 0.0021\n",
            "Epoch 24/100\n",
            "126/126 [==============================] - 4s 32ms/step - loss: 0.0022\n",
            "Epoch 25/100\n",
            "126/126 [==============================] - 4s 32ms/step - loss: 0.0021\n",
            "Epoch 26/100\n",
            "126/126 [==============================] - 4s 32ms/step - loss: 0.0020\n",
            "Epoch 27/100\n",
            "126/126 [==============================] - 4s 32ms/step - loss: 0.0018\n",
            "Epoch 28/100\n",
            "126/126 [==============================] - 6s 46ms/step - loss: 0.0018\n",
            "Epoch 29/100\n",
            "126/126 [==============================] - 6s 49ms/step - loss: 0.0018\n",
            "Epoch 30/100\n",
            "126/126 [==============================] - 4s 32ms/step - loss: 0.0017\n",
            "Epoch 31/100\n",
            "126/126 [==============================] - 4s 32ms/step - loss: 0.0015\n",
            "Epoch 32/100\n",
            "126/126 [==============================] - 4s 32ms/step - loss: 0.0015\n",
            "Epoch 33/100\n",
            "126/126 [==============================] - 4s 32ms/step - loss: 0.0014\n",
            "Epoch 34/100\n",
            "126/126 [==============================] - 4s 32ms/step - loss: 0.0015\n",
            "Epoch 35/100\n",
            "126/126 [==============================] - 4s 33ms/step - loss: 0.0015\n",
            "Epoch 36/100\n",
            "126/126 [==============================] - 4s 32ms/step - loss: 0.0014\n",
            "Epoch 37/100\n",
            "126/126 [==============================] - 4s 32ms/step - loss: 0.0013\n",
            "Epoch 38/100\n",
            "126/126 [==============================] - 4s 32ms/step - loss: 0.0012\n",
            "Epoch 39/100\n",
            "126/126 [==============================] - 4s 32ms/step - loss: 0.0013\n",
            "Epoch 40/100\n",
            "126/126 [==============================] - 4s 32ms/step - loss: 0.0012\n",
            "Epoch 41/100\n",
            "126/126 [==============================] - 4s 32ms/step - loss: 0.0011\n",
            "Epoch 42/100\n",
            "126/126 [==============================] - 4s 32ms/step - loss: 0.0011\n",
            "Epoch 43/100\n",
            "126/126 [==============================] - 4s 32ms/step - loss: 0.0011\n",
            "Epoch 44/100\n",
            "126/126 [==============================] - 4s 32ms/step - loss: 0.0011\n",
            "Epoch 45/100\n",
            "126/126 [==============================] - 4s 32ms/step - loss: 0.0011\n",
            "Epoch 46/100\n",
            "126/126 [==============================] - 4s 32ms/step - loss: 0.0011\n",
            "Epoch 47/100\n",
            "126/126 [==============================] - 4s 32ms/step - loss: 0.0011\n",
            "Epoch 48/100\n",
            "126/126 [==============================] - 4s 32ms/step - loss: 0.0011\n",
            "Epoch 49/100\n",
            "126/126 [==============================] - 5s 43ms/step - loss: 9.6253e-04\n",
            "Epoch 50/100\n",
            "126/126 [==============================] - 4s 32ms/step - loss: 9.6866e-04\n",
            "Epoch 51/100\n",
            "126/126 [==============================] - 4s 32ms/step - loss: 0.0010\n",
            "Epoch 52/100\n",
            "126/126 [==============================] - 4s 32ms/step - loss: 0.0012\n",
            "Epoch 53/100\n",
            "126/126 [==============================] - 4s 32ms/step - loss: 9.6386e-04\n",
            "Epoch 54/100\n",
            "126/126 [==============================] - 4s 32ms/step - loss: 0.0011\n",
            "Epoch 55/100\n",
            "126/126 [==============================] - 4s 32ms/step - loss: 9.9984e-04\n",
            "Epoch 56/100\n",
            "126/126 [==============================] - 4s 33ms/step - loss: 9.9554e-04\n",
            "Epoch 57/100\n",
            "126/126 [==============================] - 4s 33ms/step - loss: 8.6424e-04\n",
            "Epoch 58/100\n",
            "126/126 [==============================] - 4s 32ms/step - loss: 8.9804e-04\n",
            "Epoch 59/100\n",
            "126/126 [==============================] - 4s 32ms/step - loss: 9.1889e-04\n",
            "Epoch 60/100\n",
            "126/126 [==============================] - 4s 32ms/step - loss: 0.0010\n",
            "Epoch 61/100\n",
            "126/126 [==============================] - 4s 32ms/step - loss: 8.7011e-04\n",
            "Epoch 62/100\n",
            "126/126 [==============================] - 4s 32ms/step - loss: 0.0010\n",
            "Epoch 63/100\n",
            "126/126 [==============================] - 4s 32ms/step - loss: 9.4486e-04\n",
            "Epoch 64/100\n",
            "126/126 [==============================] - 4s 33ms/step - loss: 8.5626e-04\n",
            "Epoch 65/100\n",
            "126/126 [==============================] - 4s 34ms/step - loss: 8.9323e-04\n",
            "Epoch 66/100\n",
            "126/126 [==============================] - 4s 32ms/step - loss: 8.7661e-04\n",
            "Epoch 67/100\n",
            "126/126 [==============================] - 4s 32ms/step - loss: 8.6770e-04\n",
            "Epoch 68/100\n",
            "126/126 [==============================] - 4s 32ms/step - loss: 7.8232e-04\n",
            "Epoch 69/100\n",
            "126/126 [==============================] - 4s 32ms/step - loss: 8.3104e-04\n",
            "Epoch 70/100\n",
            "126/126 [==============================] - 4s 32ms/step - loss: 7.4169e-04\n",
            "Epoch 71/100\n",
            "126/126 [==============================] - 4s 32ms/step - loss: 7.5795e-04\n",
            "Epoch 72/100\n",
            "126/126 [==============================] - 4s 32ms/step - loss: 0.0013\n",
            "Epoch 73/100\n",
            "126/126 [==============================] - 4s 32ms/step - loss: 8.3614e-04\n",
            "Epoch 74/100\n",
            "126/126 [==============================] - 4s 33ms/step - loss: 7.0600e-04\n",
            "Epoch 75/100\n",
            "126/126 [==============================] - 4s 33ms/step - loss: 8.8141e-04\n",
            "Epoch 76/100\n",
            "126/126 [==============================] - 4s 32ms/step - loss: 8.2940e-04\n",
            "Epoch 77/100\n",
            "126/126 [==============================] - 4s 32ms/step - loss: 7.8034e-04\n",
            "Epoch 78/100\n",
            "126/126 [==============================] - 4s 32ms/step - loss: 7.6718e-04\n",
            "Epoch 79/100\n",
            "126/126 [==============================] - 4s 32ms/step - loss: 7.8257e-04\n",
            "Epoch 80/100\n",
            "126/126 [==============================] - 4s 32ms/step - loss: 7.3644e-04\n",
            "Epoch 81/100\n",
            "126/126 [==============================] - 4s 32ms/step - loss: 8.6583e-04\n",
            "Epoch 82/100\n",
            "126/126 [==============================] - 4s 32ms/step - loss: 7.3274e-04\n",
            "Epoch 83/100\n",
            "126/126 [==============================] - 4s 32ms/step - loss: 7.0440e-04\n",
            "Epoch 84/100\n",
            "126/126 [==============================] - 4s 32ms/step - loss: 7.1944e-04\n",
            "Epoch 85/100\n",
            "126/126 [==============================] - 4s 32ms/step - loss: 8.7540e-04\n",
            "Epoch 86/100\n",
            "126/126 [==============================] - 4s 32ms/step - loss: 7.6002e-04\n",
            "Epoch 87/100\n",
            "126/126 [==============================] - 5s 43ms/step - loss: 9.5625e-04\n",
            "Epoch 88/100\n",
            "126/126 [==============================] - 4s 32ms/step - loss: 0.0011\n",
            "Epoch 89/100\n",
            "126/126 [==============================] - 4s 33ms/step - loss: 7.8562e-04\n",
            "Epoch 90/100\n",
            "126/126 [==============================] - 4s 32ms/step - loss: 7.9700e-04\n",
            "Epoch 91/100\n",
            "126/126 [==============================] - 4s 34ms/step - loss: 8.0818e-04\n",
            "Epoch 92/100\n",
            "126/126 [==============================] - 4s 32ms/step - loss: 8.5588e-04\n",
            "Epoch 93/100\n",
            "126/126 [==============================] - 4s 32ms/step - loss: 7.8990e-04\n",
            "Epoch 94/100\n",
            "126/126 [==============================] - 4s 32ms/step - loss: 6.8918e-04\n",
            "Epoch 95/100\n",
            "126/126 [==============================] - 4s 32ms/step - loss: 8.0508e-04\n",
            "Epoch 96/100\n",
            "126/126 [==============================] - 4s 32ms/step - loss: 7.3917e-04\n",
            "Epoch 97/100\n",
            "126/126 [==============================] - 4s 33ms/step - loss: 6.5799e-04\n",
            "Epoch 98/100\n",
            "126/126 [==============================] - 4s 32ms/step - loss: 7.7769e-04\n",
            "Epoch 99/100\n",
            "126/126 [==============================] - 4s 32ms/step - loss: 7.5323e-04\n",
            "Epoch 100/100\n",
            "126/126 [==============================] - 4s 32ms/step - loss: 8.0379e-04\n"
          ]
        },
        {
          "output_type": "execute_result",
          "data": {
            "text/plain": [
              "<keras.callbacks.History at 0x7fd211a44130>"
            ]
          },
          "metadata": {},
          "execution_count": 14
        }
      ],
      "source": [
        "regressor_spy.fit(X_train_spy, y_train_spy, epochs = 100, batch_size = 20)"
      ]
    },
    {
      "cell_type": "code",
      "source": [
        "regressor_bac.fit(X_train_bac, y_train_bac, epochs = 100, batch_size = 20)"
      ],
      "metadata": {
        "colab": {
          "base_uri": "https://localhost:8080/"
        },
        "id": "24_xqXfeugbC",
        "outputId": "b2b2f7f6-07e6-4844-ab7d-a51a93b39d11"
      },
      "execution_count": null,
      "outputs": [
        {
          "output_type": "stream",
          "name": "stdout",
          "text": [
            "Epoch 1/100\n",
            "316/316 [==============================] - 15s 37ms/step - loss: 0.1783\n",
            "Epoch 2/100\n",
            "316/316 [==============================] - 12s 37ms/step - loss: 0.0392\n",
            "Epoch 3/100\n",
            "316/316 [==============================] - 12s 36ms/step - loss: 0.0180\n",
            "Epoch 4/100\n",
            "316/316 [==============================] - 11s 36ms/step - loss: 0.0108\n",
            "Epoch 5/100\n",
            "316/316 [==============================] - 12s 39ms/step - loss: 0.0074\n",
            "Epoch 6/100\n",
            "316/316 [==============================] - 11s 36ms/step - loss: 0.0052\n",
            "Epoch 7/100\n",
            "316/316 [==============================] - 11s 36ms/step - loss: 0.0043\n",
            "Epoch 8/100\n",
            "316/316 [==============================] - 15s 47ms/step - loss: 0.0035\n",
            "Epoch 9/100\n",
            "316/316 [==============================] - 12s 37ms/step - loss: 0.0030\n",
            "Epoch 10/100\n",
            "316/316 [==============================] - 11s 36ms/step - loss: 0.0025\n",
            "Epoch 11/100\n",
            "316/316 [==============================] - 11s 36ms/step - loss: 0.0021\n",
            "Epoch 12/100\n",
            "316/316 [==============================] - 11s 36ms/step - loss: 0.0021\n",
            "Epoch 13/100\n",
            "316/316 [==============================] - 11s 36ms/step - loss: 0.0019\n",
            "Epoch 14/100\n",
            "316/316 [==============================] - 11s 36ms/step - loss: 0.0017\n",
            "Epoch 15/100\n",
            "316/316 [==============================] - 12s 36ms/step - loss: 0.0015\n",
            "Epoch 16/100\n",
            "316/316 [==============================] - 12s 37ms/step - loss: 0.0016\n",
            "Epoch 17/100\n",
            "316/316 [==============================] - 11s 36ms/step - loss: 0.0014\n",
            "Epoch 18/100\n",
            "316/316 [==============================] - 11s 35ms/step - loss: 0.0014\n",
            "Epoch 19/100\n",
            "316/316 [==============================] - 11s 36ms/step - loss: 0.0013\n",
            "Epoch 20/100\n",
            "316/316 [==============================] - 11s 36ms/step - loss: 0.0014\n",
            "Epoch 21/100\n",
            "316/316 [==============================] - 13s 40ms/step - loss: 0.0014\n",
            "Epoch 22/100\n",
            "316/316 [==============================] - 11s 36ms/step - loss: 0.0014\n",
            "Epoch 23/100\n",
            "316/316 [==============================] - 12s 36ms/step - loss: 0.0012\n",
            "Epoch 24/100\n",
            "316/316 [==============================] - 11s 36ms/step - loss: 0.0012\n",
            "Epoch 25/100\n",
            "316/316 [==============================] - 12s 36ms/step - loss: 0.0012\n",
            "Epoch 26/100\n",
            "316/316 [==============================] - 12s 37ms/step - loss: 0.0012\n",
            "Epoch 27/100\n",
            "316/316 [==============================] - 11s 35ms/step - loss: 0.0012\n",
            "Epoch 28/100\n",
            "316/316 [==============================] - 12s 37ms/step - loss: 0.0013\n",
            "Epoch 29/100\n",
            "316/316 [==============================] - 11s 36ms/step - loss: 0.0012\n",
            "Epoch 30/100\n",
            "316/316 [==============================] - 11s 36ms/step - loss: 0.0012\n",
            "Epoch 31/100\n",
            "316/316 [==============================] - 12s 37ms/step - loss: 0.0012\n",
            "Epoch 32/100\n",
            "316/316 [==============================] - 11s 36ms/step - loss: 0.0012\n",
            "Epoch 33/100\n",
            "316/316 [==============================] - 13s 40ms/step - loss: 0.0011\n",
            "Epoch 34/100\n",
            "316/316 [==============================] - 11s 36ms/step - loss: 0.0012\n",
            "Epoch 35/100\n",
            "316/316 [==============================] - 11s 36ms/step - loss: 0.0012\n",
            "Epoch 36/100\n",
            "316/316 [==============================] - 11s 36ms/step - loss: 0.0012\n",
            "Epoch 37/100\n",
            "316/316 [==============================] - 11s 36ms/step - loss: 0.0011\n",
            "Epoch 38/100\n",
            "316/316 [==============================] - 12s 37ms/step - loss: 0.0012\n",
            "Epoch 39/100\n",
            "316/316 [==============================] - 11s 36ms/step - loss: 0.0011\n",
            "Epoch 40/100\n",
            "316/316 [==============================] - 11s 36ms/step - loss: 0.0011\n",
            "Epoch 41/100\n",
            "316/316 [==============================] - 11s 36ms/step - loss: 0.0011\n",
            "Epoch 42/100\n",
            "316/316 [==============================] - 12s 37ms/step - loss: 0.0012\n",
            "Epoch 43/100\n",
            "316/316 [==============================] - 12s 37ms/step - loss: 0.0011\n",
            "Epoch 44/100\n",
            "316/316 [==============================] - 11s 36ms/step - loss: 0.0011\n",
            "Epoch 45/100\n",
            "316/316 [==============================] - 11s 36ms/step - loss: 0.0011\n",
            "Epoch 46/100\n",
            "316/316 [==============================] - 13s 41ms/step - loss: 0.0011\n",
            "Epoch 47/100\n",
            "316/316 [==============================] - 12s 36ms/step - loss: 0.0011\n",
            "Epoch 48/100\n",
            "316/316 [==============================] - 12s 37ms/step - loss: 0.0011\n",
            "Epoch 49/100\n",
            "316/316 [==============================] - 11s 36ms/step - loss: 0.0011\n",
            "Epoch 50/100\n",
            "316/316 [==============================] - 12s 37ms/step - loss: 0.0011\n",
            "Epoch 51/100\n",
            "316/316 [==============================] - 11s 36ms/step - loss: 0.0011\n",
            "Epoch 52/100\n",
            "316/316 [==============================] - 12s 38ms/step - loss: 0.0011\n",
            "Epoch 53/100\n",
            "316/316 [==============================] - 12s 37ms/step - loss: 0.0010\n",
            "Epoch 54/100\n",
            "316/316 [==============================] - 12s 38ms/step - loss: 0.0011\n",
            "Epoch 55/100\n",
            "316/316 [==============================] - 12s 37ms/step - loss: 0.0010\n",
            "Epoch 56/100\n",
            "316/316 [==============================] - 12s 37ms/step - loss: 0.0011\n",
            "Epoch 57/100\n",
            "316/316 [==============================] - 12s 37ms/step - loss: 0.0011\n",
            "Epoch 58/100\n",
            "316/316 [==============================] - 13s 41ms/step - loss: 0.0012\n",
            "Epoch 59/100\n",
            "316/316 [==============================] - 12s 37ms/step - loss: 0.0010\n",
            "Epoch 60/100\n",
            "316/316 [==============================] - 11s 36ms/step - loss: 0.0010\n",
            "Epoch 61/100\n",
            "316/316 [==============================] - 12s 37ms/step - loss: 0.0011\n",
            "Epoch 62/100\n",
            "316/316 [==============================] - 12s 37ms/step - loss: 0.0011\n",
            "Epoch 63/100\n",
            "316/316 [==============================] - 12s 37ms/step - loss: 0.0011\n",
            "Epoch 64/100\n",
            "316/316 [==============================] - 12s 37ms/step - loss: 0.0011\n",
            "Epoch 65/100\n",
            "316/316 [==============================] - 12s 37ms/step - loss: 0.0010\n",
            "Epoch 66/100\n",
            "316/316 [==============================] - 12s 37ms/step - loss: 0.0011\n",
            "Epoch 67/100\n",
            "316/316 [==============================] - 12s 38ms/step - loss: 0.0011\n",
            "Epoch 68/100\n",
            "316/316 [==============================] - 11s 36ms/step - loss: 0.0011\n",
            "Epoch 69/100\n",
            "316/316 [==============================] - 11s 36ms/step - loss: 9.9365e-04\n",
            "Epoch 70/100\n",
            "316/316 [==============================] - 13s 41ms/step - loss: 0.0011\n",
            "Epoch 71/100\n",
            "316/316 [==============================] - 12s 37ms/step - loss: 0.0010\n",
            "Epoch 72/100\n",
            "316/316 [==============================] - 12s 36ms/step - loss: 0.0010\n",
            "Epoch 73/100\n",
            "316/316 [==============================] - 12s 37ms/step - loss: 0.0010\n",
            "Epoch 74/100\n",
            "316/316 [==============================] - 12s 37ms/step - loss: 0.0011\n",
            "Epoch 75/100\n",
            "316/316 [==============================] - 12s 37ms/step - loss: 9.6644e-04\n",
            "Epoch 76/100\n",
            "316/316 [==============================] - 12s 37ms/step - loss: 0.0011\n",
            "Epoch 77/100\n",
            "316/316 [==============================] - 12s 37ms/step - loss: 9.5541e-04\n",
            "Epoch 78/100\n",
            "316/316 [==============================] - 12s 37ms/step - loss: 0.0011\n",
            "Epoch 79/100\n",
            "316/316 [==============================] - 12s 37ms/step - loss: 0.0010\n",
            "Epoch 80/100\n",
            "316/316 [==============================] - 12s 38ms/step - loss: 0.0010\n",
            "Epoch 81/100\n",
            "316/316 [==============================] - 12s 37ms/step - loss: 0.0011\n",
            "Epoch 82/100\n",
            "316/316 [==============================] - 13s 41ms/step - loss: 9.9476e-04\n",
            "Epoch 83/100\n",
            "316/316 [==============================] - 12s 36ms/step - loss: 0.0011\n",
            "Epoch 84/100\n",
            "316/316 [==============================] - 11s 36ms/step - loss: 0.0010\n",
            "Epoch 85/100\n",
            "316/316 [==============================] - 11s 36ms/step - loss: 0.0012\n",
            "Epoch 86/100\n",
            "316/316 [==============================] - 11s 36ms/step - loss: 0.0010\n",
            "Epoch 87/100\n",
            "316/316 [==============================] - 12s 37ms/step - loss: 9.5041e-04\n",
            "Epoch 88/100\n",
            "316/316 [==============================] - 12s 36ms/step - loss: 9.4831e-04\n",
            "Epoch 89/100\n",
            "316/316 [==============================] - 11s 36ms/step - loss: 0.0010\n",
            "Epoch 90/100\n",
            "316/316 [==============================] - 12s 36ms/step - loss: 0.0010\n",
            "Epoch 91/100\n",
            "316/316 [==============================] - 11s 36ms/step - loss: 0.0010\n",
            "Epoch 92/100\n",
            "316/316 [==============================] - 11s 36ms/step - loss: 9.9657e-04\n",
            "Epoch 93/100\n",
            "316/316 [==============================] - 12s 36ms/step - loss: 0.0011\n",
            "Epoch 94/100\n",
            "316/316 [==============================] - 11s 36ms/step - loss: 9.4945e-04\n",
            "Epoch 95/100\n",
            "316/316 [==============================] - 11s 36ms/step - loss: 9.9767e-04\n",
            "Epoch 96/100\n",
            "316/316 [==============================] - 13s 40ms/step - loss: 0.0010\n",
            "Epoch 97/100\n",
            "316/316 [==============================] - 11s 36ms/step - loss: 9.8767e-04\n",
            "Epoch 98/100\n",
            "316/316 [==============================] - 12s 37ms/step - loss: 0.0010\n",
            "Epoch 99/100\n",
            "316/316 [==============================] - 11s 36ms/step - loss: 0.0010\n",
            "Epoch 100/100\n",
            "316/316 [==============================] - 12s 37ms/step - loss: 9.5448e-04\n"
          ]
        },
        {
          "output_type": "execute_result",
          "data": {
            "text/plain": [
              "<keras.callbacks.History at 0x7fd2094d9f70>"
            ]
          },
          "metadata": {},
          "execution_count": 47
        }
      ]
    },
    {
      "cell_type": "code",
      "source": [
        "regressor_wmt.fit(X_train_wmt, y_train_wmt, epochs = 100, batch_size = 20)"
      ],
      "metadata": {
        "colab": {
          "base_uri": "https://localhost:8080/"
        },
        "id": "KmPr5MTougRr",
        "outputId": "358e1700-a38d-4867-8fcb-d3c9207a4a2d"
      },
      "execution_count": null,
      "outputs": [
        {
          "output_type": "stream",
          "name": "stdout",
          "text": [
            "Epoch 1/100\n",
            "456/456 [==============================] - 19s 36ms/step - loss: 0.1277\n",
            "Epoch 2/100\n",
            "456/456 [==============================] - 16s 36ms/step - loss: 0.0215\n",
            "Epoch 3/100\n",
            "456/456 [==============================] - 17s 37ms/step - loss: 0.0104\n",
            "Epoch 4/100\n",
            "456/456 [==============================] - 16s 36ms/step - loss: 0.0060\n",
            "Epoch 5/100\n",
            "456/456 [==============================] - 18s 39ms/step - loss: 0.0043\n",
            "Epoch 6/100\n",
            "456/456 [==============================] - 16s 36ms/step - loss: 0.0032\n",
            "Epoch 7/100\n",
            "456/456 [==============================] - 17s 37ms/step - loss: 0.0026\n",
            "Epoch 8/100\n",
            "456/456 [==============================] - 17s 36ms/step - loss: 0.0022\n",
            "Epoch 9/100\n",
            "456/456 [==============================] - 17s 37ms/step - loss: 0.0019\n",
            "Epoch 10/100\n",
            "456/456 [==============================] - 16s 36ms/step - loss: 0.0018\n",
            "Epoch 11/100\n",
            "456/456 [==============================] - 16s 36ms/step - loss: 0.0016\n",
            "Epoch 12/100\n",
            "456/456 [==============================] - 16s 36ms/step - loss: 0.0015\n",
            "Epoch 13/100\n",
            "456/456 [==============================] - 18s 39ms/step - loss: 0.0013\n",
            "Epoch 14/100\n",
            "456/456 [==============================] - 17s 36ms/step - loss: 0.0015\n",
            "Epoch 15/100\n",
            "456/456 [==============================] - 17s 36ms/step - loss: 0.0013\n",
            "Epoch 16/100\n",
            "456/456 [==============================] - 17s 36ms/step - loss: 0.0014\n",
            "Epoch 17/100\n",
            "456/456 [==============================] - 17s 37ms/step - loss: 0.0014\n",
            "Epoch 18/100\n",
            "456/456 [==============================] - 16s 36ms/step - loss: 0.0014\n",
            "Epoch 19/100\n",
            "456/456 [==============================] - 17s 36ms/step - loss: 0.0012\n",
            "Epoch 20/100\n",
            "456/456 [==============================] - 16s 36ms/step - loss: 0.0015\n",
            "Epoch 21/100\n",
            "456/456 [==============================] - 17s 36ms/step - loss: 0.0013\n",
            "Epoch 22/100\n",
            "456/456 [==============================] - 18s 39ms/step - loss: 0.0013\n",
            "Epoch 23/100\n",
            "456/456 [==============================] - 17s 36ms/step - loss: 0.0012\n",
            "Epoch 24/100\n",
            "456/456 [==============================] - 16s 36ms/step - loss: 0.0013\n",
            "Epoch 25/100\n",
            "456/456 [==============================] - 16s 35ms/step - loss: 0.0012\n",
            "Epoch 26/100\n",
            "456/456 [==============================] - 16s 36ms/step - loss: 0.0013\n",
            "Epoch 27/100\n",
            "456/456 [==============================] - 17s 36ms/step - loss: 0.0013\n",
            "Epoch 28/100\n",
            "456/456 [==============================] - 16s 36ms/step - loss: 0.0012\n",
            "Epoch 29/100\n",
            "456/456 [==============================] - 16s 35ms/step - loss: 0.0012\n",
            "Epoch 30/100\n",
            "456/456 [==============================] - 18s 39ms/step - loss: 0.0012\n",
            "Epoch 31/100\n",
            "456/456 [==============================] - 16s 35ms/step - loss: 0.0013\n",
            "Epoch 32/100\n",
            "456/456 [==============================] - 16s 36ms/step - loss: 0.0012\n",
            "Epoch 33/100\n",
            "456/456 [==============================] - 16s 36ms/step - loss: 0.0012\n",
            "Epoch 34/100\n",
            "456/456 [==============================] - 16s 36ms/step - loss: 0.0012\n",
            "Epoch 35/100\n",
            "456/456 [==============================] - 16s 36ms/step - loss: 0.0013\n",
            "Epoch 36/100\n",
            "456/456 [==============================] - 16s 35ms/step - loss: 0.0012\n",
            "Epoch 37/100\n",
            "456/456 [==============================] - 17s 36ms/step - loss: 0.0012\n",
            "Epoch 38/100\n",
            "456/456 [==============================] - 17s 36ms/step - loss: 0.0012\n",
            "Epoch 39/100\n",
            "456/456 [==============================] - 17s 38ms/step - loss: 0.0011\n",
            "Epoch 40/100\n",
            "456/456 [==============================] - 16s 36ms/step - loss: 0.0012\n",
            "Epoch 41/100\n",
            "456/456 [==============================] - 16s 36ms/step - loss: 0.0011\n",
            "Epoch 42/100\n",
            "456/456 [==============================] - 16s 35ms/step - loss: 0.0012\n",
            "Epoch 43/100\n",
            "456/456 [==============================] - 16s 35ms/step - loss: 0.0011\n",
            "Epoch 44/100\n",
            "456/456 [==============================] - 16s 36ms/step - loss: 0.0011\n",
            "Epoch 45/100\n",
            "456/456 [==============================] - 17s 36ms/step - loss: 0.0011\n",
            "Epoch 46/100\n",
            "456/456 [==============================] - 17s 36ms/step - loss: 0.0011\n",
            "Epoch 47/100\n",
            "456/456 [==============================] - 18s 40ms/step - loss: 0.0011\n",
            "Epoch 48/100\n",
            "456/456 [==============================] - 17s 36ms/step - loss: 0.0011\n",
            "Epoch 49/100\n",
            "456/456 [==============================] - 17s 37ms/step - loss: 0.0010\n",
            "Epoch 50/100\n",
            "456/456 [==============================] - 17s 37ms/step - loss: 0.0011\n",
            "Epoch 51/100\n",
            "456/456 [==============================] - 17s 36ms/step - loss: 0.0011\n",
            "Epoch 52/100\n",
            "456/456 [==============================] - 17s 37ms/step - loss: 0.0011\n",
            "Epoch 53/100\n",
            "456/456 [==============================] - 16s 36ms/step - loss: 0.0011\n",
            "Epoch 54/100\n",
            "456/456 [==============================] - 16s 36ms/step - loss: 0.0011\n",
            "Epoch 55/100\n",
            "456/456 [==============================] - 18s 39ms/step - loss: 0.0011\n",
            "Epoch 56/100\n",
            "456/456 [==============================] - 17s 36ms/step - loss: 0.0011\n",
            "Epoch 57/100\n",
            "456/456 [==============================] - 16s 36ms/step - loss: 0.0011\n",
            "Epoch 58/100\n",
            "456/456 [==============================] - 17s 37ms/step - loss: 0.0012\n",
            "Epoch 59/100\n",
            "456/456 [==============================] - 17s 36ms/step - loss: 0.0011\n",
            "Epoch 60/100\n",
            "456/456 [==============================] - 17s 36ms/step - loss: 0.0011\n",
            "Epoch 61/100\n",
            "456/456 [==============================] - 17s 36ms/step - loss: 0.0089\n",
            "Epoch 62/100\n",
            "456/456 [==============================] - 17s 37ms/step - loss: 0.0025\n",
            "Epoch 63/100\n",
            "456/456 [==============================] - 18s 39ms/step - loss: 0.0020\n",
            "Epoch 64/100\n",
            "456/456 [==============================] - 16s 36ms/step - loss: 0.0017\n",
            "Epoch 65/100\n",
            "456/456 [==============================] - 17s 36ms/step - loss: 0.0016\n",
            "Epoch 66/100\n",
            "456/456 [==============================] - 17s 36ms/step - loss: 0.0014\n",
            "Epoch 67/100\n",
            "456/456 [==============================] - 16s 36ms/step - loss: 0.0015\n",
            "Epoch 68/100\n",
            "456/456 [==============================] - 16s 36ms/step - loss: 0.0015\n",
            "Epoch 69/100\n",
            "456/456 [==============================] - 16s 36ms/step - loss: 0.0015\n",
            "Epoch 70/100\n",
            "456/456 [==============================] - 16s 36ms/step - loss: 0.0014\n",
            "Epoch 71/100\n",
            "456/456 [==============================] - 16s 36ms/step - loss: 0.0014\n",
            "Epoch 72/100\n",
            "456/456 [==============================] - 18s 39ms/step - loss: 0.0013\n",
            "Epoch 73/100\n",
            "456/456 [==============================] - 17s 36ms/step - loss: 0.0013\n",
            "Epoch 74/100\n",
            "456/456 [==============================] - 16s 36ms/step - loss: 0.0013\n",
            "Epoch 75/100\n",
            "456/456 [==============================] - 16s 35ms/step - loss: 0.0013\n",
            "Epoch 76/100\n",
            "456/456 [==============================] - 16s 36ms/step - loss: 0.0013\n",
            "Epoch 77/100\n",
            "456/456 [==============================] - 16s 36ms/step - loss: 0.0013\n",
            "Epoch 78/100\n",
            "456/456 [==============================] - 16s 36ms/step - loss: 0.0012\n",
            "Epoch 79/100\n",
            "456/456 [==============================] - 17s 36ms/step - loss: 0.0012\n",
            "Epoch 80/100\n",
            "456/456 [==============================] - 18s 38ms/step - loss: 0.0013\n",
            "Epoch 81/100\n",
            "456/456 [==============================] - 17s 37ms/step - loss: 0.0013\n",
            "Epoch 82/100\n",
            "456/456 [==============================] - 16s 36ms/step - loss: 0.0013\n",
            "Epoch 83/100\n",
            "456/456 [==============================] - 16s 36ms/step - loss: 0.0013\n",
            "Epoch 84/100\n",
            "456/456 [==============================] - 16s 36ms/step - loss: 0.0011\n",
            "Epoch 85/100\n",
            "456/456 [==============================] - 16s 35ms/step - loss: 0.0012\n",
            "Epoch 86/100\n",
            "456/456 [==============================] - 16s 36ms/step - loss: 0.0012\n",
            "Epoch 87/100\n",
            "456/456 [==============================] - 16s 36ms/step - loss: 0.0011\n",
            "Epoch 88/100\n",
            "456/456 [==============================] - 18s 39ms/step - loss: 0.0011\n",
            "Epoch 89/100\n",
            "456/456 [==============================] - 16s 36ms/step - loss: 0.0011\n",
            "Epoch 90/100\n",
            "456/456 [==============================] - 16s 36ms/step - loss: 0.0012\n",
            "Epoch 91/100\n",
            "456/456 [==============================] - 16s 36ms/step - loss: 0.0011\n",
            "Epoch 92/100\n",
            "456/456 [==============================] - 17s 36ms/step - loss: 0.0012\n",
            "Epoch 93/100\n",
            "456/456 [==============================] - 16s 35ms/step - loss: 0.0011\n",
            "Epoch 94/100\n",
            "456/456 [==============================] - 16s 36ms/step - loss: 0.0011\n",
            "Epoch 95/100\n",
            "456/456 [==============================] - 16s 36ms/step - loss: 0.0011\n",
            "Epoch 96/100\n",
            "456/456 [==============================] - 17s 37ms/step - loss: 0.0011\n",
            "Epoch 97/100\n",
            "456/456 [==============================] - 17s 38ms/step - loss: 0.0011\n",
            "Epoch 98/100\n",
            "456/456 [==============================] - 16s 35ms/step - loss: 0.0011\n",
            "Epoch 99/100\n",
            "456/456 [==============================] - 16s 36ms/step - loss: 0.0012\n",
            "Epoch 100/100\n",
            "456/456 [==============================] - 16s 36ms/step - loss: 0.0011\n"
          ]
        },
        {
          "output_type": "execute_result",
          "data": {
            "text/plain": [
              "<keras.callbacks.History at 0x7fd2077a4730>"
            ]
          },
          "metadata": {},
          "execution_count": 48
        }
      ]
    },
    {
      "cell_type": "markdown",
      "metadata": {
        "id": "YphrGPxHjDcY"
      },
      "source": [
        "<h1>Prediction"
      ]
    },
    {
      "cell_type": "code",
      "execution_count": null,
      "metadata": {
        "colab": {
          "base_uri": "https://localhost:8080/",
          "height": 206
        },
        "id": "Ec9KdZ3x7b0S",
        "outputId": "c58128e3-e7d0-4d94-c325-a0894590448e"
      },
      "outputs": [
        {
          "output_type": "execute_result",
          "data": {
            "text/plain": [
              "            Date    Open    High     Low   Close     Volume  OpenInt\n",
              "2560  2015-04-30  199.36  199.82  197.21  198.03  169805170        0\n",
              "2561  2015-05-01  198.92  200.22  198.81  200.17  108848607        0\n",
              "2562  2015-05-04  200.66  201.41  200.53  200.75   74664891        0\n",
              "2563  2015-05-05  200.46  200.88  198.29  198.45  119298103        0\n",
              "2564  2015-05-06  199.07  199.41  196.43  197.62  142107790        0"
            ],
            "text/html": [
              "\n",
              "  <div id=\"df-2690cb0d-5ae6-49dd-bdb2-8edbaebc399a\">\n",
              "    <div class=\"colab-df-container\">\n",
              "      <div>\n",
              "<style scoped>\n",
              "    .dataframe tbody tr th:only-of-type {\n",
              "        vertical-align: middle;\n",
              "    }\n",
              "\n",
              "    .dataframe tbody tr th {\n",
              "        vertical-align: top;\n",
              "    }\n",
              "\n",
              "    .dataframe thead th {\n",
              "        text-align: right;\n",
              "    }\n",
              "</style>\n",
              "<table border=\"1\" class=\"dataframe\">\n",
              "  <thead>\n",
              "    <tr style=\"text-align: right;\">\n",
              "      <th></th>\n",
              "      <th>Date</th>\n",
              "      <th>Open</th>\n",
              "      <th>High</th>\n",
              "      <th>Low</th>\n",
              "      <th>Close</th>\n",
              "      <th>Volume</th>\n",
              "      <th>OpenInt</th>\n",
              "    </tr>\n",
              "  </thead>\n",
              "  <tbody>\n",
              "    <tr>\n",
              "      <th>2560</th>\n",
              "      <td>2015-04-30</td>\n",
              "      <td>199.36</td>\n",
              "      <td>199.82</td>\n",
              "      <td>197.21</td>\n",
              "      <td>198.03</td>\n",
              "      <td>169805170</td>\n",
              "      <td>0</td>\n",
              "    </tr>\n",
              "    <tr>\n",
              "      <th>2561</th>\n",
              "      <td>2015-05-01</td>\n",
              "      <td>198.92</td>\n",
              "      <td>200.22</td>\n",
              "      <td>198.81</td>\n",
              "      <td>200.17</td>\n",
              "      <td>108848607</td>\n",
              "      <td>0</td>\n",
              "    </tr>\n",
              "    <tr>\n",
              "      <th>2562</th>\n",
              "      <td>2015-05-04</td>\n",
              "      <td>200.66</td>\n",
              "      <td>201.41</td>\n",
              "      <td>200.53</td>\n",
              "      <td>200.75</td>\n",
              "      <td>74664891</td>\n",
              "      <td>0</td>\n",
              "    </tr>\n",
              "    <tr>\n",
              "      <th>2563</th>\n",
              "      <td>2015-05-05</td>\n",
              "      <td>200.46</td>\n",
              "      <td>200.88</td>\n",
              "      <td>198.29</td>\n",
              "      <td>198.45</td>\n",
              "      <td>119298103</td>\n",
              "      <td>0</td>\n",
              "    </tr>\n",
              "    <tr>\n",
              "      <th>2564</th>\n",
              "      <td>2015-05-06</td>\n",
              "      <td>199.07</td>\n",
              "      <td>199.41</td>\n",
              "      <td>196.43</td>\n",
              "      <td>197.62</td>\n",
              "      <td>142107790</td>\n",
              "      <td>0</td>\n",
              "    </tr>\n",
              "  </tbody>\n",
              "</table>\n",
              "</div>\n",
              "      <button class=\"colab-df-convert\" onclick=\"convertToInteractive('df-2690cb0d-5ae6-49dd-bdb2-8edbaebc399a')\"\n",
              "              title=\"Convert this dataframe to an interactive table.\"\n",
              "              style=\"display:none;\">\n",
              "        \n",
              "  <svg xmlns=\"http://www.w3.org/2000/svg\" height=\"24px\"viewBox=\"0 0 24 24\"\n",
              "       width=\"24px\">\n",
              "    <path d=\"M0 0h24v24H0V0z\" fill=\"none\"/>\n",
              "    <path d=\"M18.56 5.44l.94 2.06.94-2.06 2.06-.94-2.06-.94-.94-2.06-.94 2.06-2.06.94zm-11 1L8.5 8.5l.94-2.06 2.06-.94-2.06-.94L8.5 2.5l-.94 2.06-2.06.94zm10 10l.94 2.06.94-2.06 2.06-.94-2.06-.94-.94-2.06-.94 2.06-2.06.94z\"/><path d=\"M17.41 7.96l-1.37-1.37c-.4-.4-.92-.59-1.43-.59-.52 0-1.04.2-1.43.59L10.3 9.45l-7.72 7.72c-.78.78-.78 2.05 0 2.83L4 21.41c.39.39.9.59 1.41.59.51 0 1.02-.2 1.41-.59l7.78-7.78 2.81-2.81c.8-.78.8-2.07 0-2.86zM5.41 20L4 18.59l7.72-7.72 1.47 1.35L5.41 20z\"/>\n",
              "  </svg>\n",
              "      </button>\n",
              "      \n",
              "  <style>\n",
              "    .colab-df-container {\n",
              "      display:flex;\n",
              "      flex-wrap:wrap;\n",
              "      gap: 12px;\n",
              "    }\n",
              "\n",
              "    .colab-df-convert {\n",
              "      background-color: #E8F0FE;\n",
              "      border: none;\n",
              "      border-radius: 50%;\n",
              "      cursor: pointer;\n",
              "      display: none;\n",
              "      fill: #1967D2;\n",
              "      height: 32px;\n",
              "      padding: 0 0 0 0;\n",
              "      width: 32px;\n",
              "    }\n",
              "\n",
              "    .colab-df-convert:hover {\n",
              "      background-color: #E2EBFA;\n",
              "      box-shadow: 0px 1px 2px rgba(60, 64, 67, 0.3), 0px 1px 3px 1px rgba(60, 64, 67, 0.15);\n",
              "      fill: #174EA6;\n",
              "    }\n",
              "\n",
              "    [theme=dark] .colab-df-convert {\n",
              "      background-color: #3B4455;\n",
              "      fill: #D2E3FC;\n",
              "    }\n",
              "\n",
              "    [theme=dark] .colab-df-convert:hover {\n",
              "      background-color: #434B5C;\n",
              "      box-shadow: 0px 1px 3px 1px rgba(0, 0, 0, 0.15);\n",
              "      filter: drop-shadow(0px 1px 2px rgba(0, 0, 0, 0.3));\n",
              "      fill: #FFFFFF;\n",
              "    }\n",
              "  </style>\n",
              "\n",
              "      <script>\n",
              "        const buttonEl =\n",
              "          document.querySelector('#df-2690cb0d-5ae6-49dd-bdb2-8edbaebc399a button.colab-df-convert');\n",
              "        buttonEl.style.display =\n",
              "          google.colab.kernel.accessAllowed ? 'block' : 'none';\n",
              "\n",
              "        async function convertToInteractive(key) {\n",
              "          const element = document.querySelector('#df-2690cb0d-5ae6-49dd-bdb2-8edbaebc399a');\n",
              "          const dataTable =\n",
              "            await google.colab.kernel.invokeFunction('convertToInteractive',\n",
              "                                                     [key], {});\n",
              "          if (!dataTable) return;\n",
              "\n",
              "          const docLinkHtml = 'Like what you see? Visit the ' +\n",
              "            '<a target=\"_blank\" href=https://colab.research.google.com/notebooks/data_table.ipynb>data table notebook</a>'\n",
              "            + ' to learn more about interactive tables.';\n",
              "          element.innerHTML = '';\n",
              "          dataTable['output_type'] = 'display_data';\n",
              "          await google.colab.output.renderOutput(dataTable, element);\n",
              "          const docLink = document.createElement('div');\n",
              "          docLink.innerHTML = docLinkHtml;\n",
              "          element.appendChild(docLink);\n",
              "        }\n",
              "      </script>\n",
              "    </div>\n",
              "  </div>\n",
              "  "
            ]
          },
          "metadata": {},
          "execution_count": 15
        }
      ],
      "source": [
        "test_Spy.head()"
      ]
    },
    {
      "cell_type": "code",
      "source": [
        "test_bac.head()"
      ],
      "metadata": {
        "colab": {
          "base_uri": "https://localhost:8080/",
          "height": 206
        },
        "id": "jyFwAoXk66J8",
        "outputId": "6476c95d-772f-4546-9b73-c5c2dd8296ae"
      },
      "execution_count": null,
      "outputs": [
        {
          "output_type": "execute_result",
          "data": {
            "text/plain": [
              "            Date    Open    High     Low   Close     Volume  OpenInt\n",
              "6343  2011-07-27  9.3692  9.3869  9.1406  9.1406  159693921        0\n",
              "6344  2011-07-28  9.1798  9.3030  9.1521  9.2457  120059700        0\n",
              "6345  2011-07-29  9.1029  9.3980  9.0654  9.1702  198714212        0\n",
              "6346  2011-08-01  9.4815  9.4905  9.1596  9.2628  168429003        0\n",
              "6347  2011-08-02  9.2170  9.3130  8.9436  8.9626  183394564        0"
            ],
            "text/html": [
              "\n",
              "  <div id=\"df-e9ec0d2e-620f-4fff-9e0f-08a3ae06c072\">\n",
              "    <div class=\"colab-df-container\">\n",
              "      <div>\n",
              "<style scoped>\n",
              "    .dataframe tbody tr th:only-of-type {\n",
              "        vertical-align: middle;\n",
              "    }\n",
              "\n",
              "    .dataframe tbody tr th {\n",
              "        vertical-align: top;\n",
              "    }\n",
              "\n",
              "    .dataframe thead th {\n",
              "        text-align: right;\n",
              "    }\n",
              "</style>\n",
              "<table border=\"1\" class=\"dataframe\">\n",
              "  <thead>\n",
              "    <tr style=\"text-align: right;\">\n",
              "      <th></th>\n",
              "      <th>Date</th>\n",
              "      <th>Open</th>\n",
              "      <th>High</th>\n",
              "      <th>Low</th>\n",
              "      <th>Close</th>\n",
              "      <th>Volume</th>\n",
              "      <th>OpenInt</th>\n",
              "    </tr>\n",
              "  </thead>\n",
              "  <tbody>\n",
              "    <tr>\n",
              "      <th>6343</th>\n",
              "      <td>2011-07-27</td>\n",
              "      <td>9.3692</td>\n",
              "      <td>9.3869</td>\n",
              "      <td>9.1406</td>\n",
              "      <td>9.1406</td>\n",
              "      <td>159693921</td>\n",
              "      <td>0</td>\n",
              "    </tr>\n",
              "    <tr>\n",
              "      <th>6344</th>\n",
              "      <td>2011-07-28</td>\n",
              "      <td>9.1798</td>\n",
              "      <td>9.3030</td>\n",
              "      <td>9.1521</td>\n",
              "      <td>9.2457</td>\n",
              "      <td>120059700</td>\n",
              "      <td>0</td>\n",
              "    </tr>\n",
              "    <tr>\n",
              "      <th>6345</th>\n",
              "      <td>2011-07-29</td>\n",
              "      <td>9.1029</td>\n",
              "      <td>9.3980</td>\n",
              "      <td>9.0654</td>\n",
              "      <td>9.1702</td>\n",
              "      <td>198714212</td>\n",
              "      <td>0</td>\n",
              "    </tr>\n",
              "    <tr>\n",
              "      <th>6346</th>\n",
              "      <td>2011-08-01</td>\n",
              "      <td>9.4815</td>\n",
              "      <td>9.4905</td>\n",
              "      <td>9.1596</td>\n",
              "      <td>9.2628</td>\n",
              "      <td>168429003</td>\n",
              "      <td>0</td>\n",
              "    </tr>\n",
              "    <tr>\n",
              "      <th>6347</th>\n",
              "      <td>2011-08-02</td>\n",
              "      <td>9.2170</td>\n",
              "      <td>9.3130</td>\n",
              "      <td>8.9436</td>\n",
              "      <td>8.9626</td>\n",
              "      <td>183394564</td>\n",
              "      <td>0</td>\n",
              "    </tr>\n",
              "  </tbody>\n",
              "</table>\n",
              "</div>\n",
              "      <button class=\"colab-df-convert\" onclick=\"convertToInteractive('df-e9ec0d2e-620f-4fff-9e0f-08a3ae06c072')\"\n",
              "              title=\"Convert this dataframe to an interactive table.\"\n",
              "              style=\"display:none;\">\n",
              "        \n",
              "  <svg xmlns=\"http://www.w3.org/2000/svg\" height=\"24px\"viewBox=\"0 0 24 24\"\n",
              "       width=\"24px\">\n",
              "    <path d=\"M0 0h24v24H0V0z\" fill=\"none\"/>\n",
              "    <path d=\"M18.56 5.44l.94 2.06.94-2.06 2.06-.94-2.06-.94-.94-2.06-.94 2.06-2.06.94zm-11 1L8.5 8.5l.94-2.06 2.06-.94-2.06-.94L8.5 2.5l-.94 2.06-2.06.94zm10 10l.94 2.06.94-2.06 2.06-.94-2.06-.94-.94-2.06-.94 2.06-2.06.94z\"/><path d=\"M17.41 7.96l-1.37-1.37c-.4-.4-.92-.59-1.43-.59-.52 0-1.04.2-1.43.59L10.3 9.45l-7.72 7.72c-.78.78-.78 2.05 0 2.83L4 21.41c.39.39.9.59 1.41.59.51 0 1.02-.2 1.41-.59l7.78-7.78 2.81-2.81c.8-.78.8-2.07 0-2.86zM5.41 20L4 18.59l7.72-7.72 1.47 1.35L5.41 20z\"/>\n",
              "  </svg>\n",
              "      </button>\n",
              "      \n",
              "  <style>\n",
              "    .colab-df-container {\n",
              "      display:flex;\n",
              "      flex-wrap:wrap;\n",
              "      gap: 12px;\n",
              "    }\n",
              "\n",
              "    .colab-df-convert {\n",
              "      background-color: #E8F0FE;\n",
              "      border: none;\n",
              "      border-radius: 50%;\n",
              "      cursor: pointer;\n",
              "      display: none;\n",
              "      fill: #1967D2;\n",
              "      height: 32px;\n",
              "      padding: 0 0 0 0;\n",
              "      width: 32px;\n",
              "    }\n",
              "\n",
              "    .colab-df-convert:hover {\n",
              "      background-color: #E2EBFA;\n",
              "      box-shadow: 0px 1px 2px rgba(60, 64, 67, 0.3), 0px 1px 3px 1px rgba(60, 64, 67, 0.15);\n",
              "      fill: #174EA6;\n",
              "    }\n",
              "\n",
              "    [theme=dark] .colab-df-convert {\n",
              "      background-color: #3B4455;\n",
              "      fill: #D2E3FC;\n",
              "    }\n",
              "\n",
              "    [theme=dark] .colab-df-convert:hover {\n",
              "      background-color: #434B5C;\n",
              "      box-shadow: 0px 1px 3px 1px rgba(0, 0, 0, 0.15);\n",
              "      filter: drop-shadow(0px 1px 2px rgba(0, 0, 0, 0.3));\n",
              "      fill: #FFFFFF;\n",
              "    }\n",
              "  </style>\n",
              "\n",
              "      <script>\n",
              "        const buttonEl =\n",
              "          document.querySelector('#df-e9ec0d2e-620f-4fff-9e0f-08a3ae06c072 button.colab-df-convert');\n",
              "        buttonEl.style.display =\n",
              "          google.colab.kernel.accessAllowed ? 'block' : 'none';\n",
              "\n",
              "        async function convertToInteractive(key) {\n",
              "          const element = document.querySelector('#df-e9ec0d2e-620f-4fff-9e0f-08a3ae06c072');\n",
              "          const dataTable =\n",
              "            await google.colab.kernel.invokeFunction('convertToInteractive',\n",
              "                                                     [key], {});\n",
              "          if (!dataTable) return;\n",
              "\n",
              "          const docLinkHtml = 'Like what you see? Visit the ' +\n",
              "            '<a target=\"_blank\" href=https://colab.research.google.com/notebooks/data_table.ipynb>data table notebook</a>'\n",
              "            + ' to learn more about interactive tables.';\n",
              "          element.innerHTML = '';\n",
              "          dataTable['output_type'] = 'display_data';\n",
              "          await google.colab.output.renderOutput(dataTable, element);\n",
              "          const docLink = document.createElement('div');\n",
              "          docLink.innerHTML = docLinkHtml;\n",
              "          element.appendChild(docLink);\n",
              "        }\n",
              "      </script>\n",
              "    </div>\n",
              "  </div>\n",
              "  "
            ]
          },
          "metadata": {},
          "execution_count": 49
        }
      ]
    },
    {
      "cell_type": "code",
      "source": [
        "test_wmt.head()"
      ],
      "metadata": {
        "colab": {
          "base_uri": "https://localhost:8080/",
          "height": 206
        },
        "id": "U83hlfV-658O",
        "outputId": "742acc8f-e851-4a2b-8f67-1d552e08545d"
      },
      "execution_count": null,
      "outputs": [
        {
          "output_type": "execute_result",
          "data": {
            "text/plain": [
              "            Date    Open    High     Low   Close    Volume  OpenInt\n",
              "9154  2008-10-10  41.677  46.098  39.952  43.309  60688828        0\n",
              "9155  2008-10-13  44.778  46.505  43.522  46.328  34767857        0\n",
              "9156  2008-10-14  47.626  47.662  44.814  46.275  32660329        0\n",
              "9157  2008-10-15  45.424  45.560  42.399  42.544  32870600        0\n",
              "9158  2008-10-16  42.988  46.771  41.420  46.429  55747818        0"
            ],
            "text/html": [
              "\n",
              "  <div id=\"df-2035524c-2a73-4f7a-9530-7cee70ab9dcb\">\n",
              "    <div class=\"colab-df-container\">\n",
              "      <div>\n",
              "<style scoped>\n",
              "    .dataframe tbody tr th:only-of-type {\n",
              "        vertical-align: middle;\n",
              "    }\n",
              "\n",
              "    .dataframe tbody tr th {\n",
              "        vertical-align: top;\n",
              "    }\n",
              "\n",
              "    .dataframe thead th {\n",
              "        text-align: right;\n",
              "    }\n",
              "</style>\n",
              "<table border=\"1\" class=\"dataframe\">\n",
              "  <thead>\n",
              "    <tr style=\"text-align: right;\">\n",
              "      <th></th>\n",
              "      <th>Date</th>\n",
              "      <th>Open</th>\n",
              "      <th>High</th>\n",
              "      <th>Low</th>\n",
              "      <th>Close</th>\n",
              "      <th>Volume</th>\n",
              "      <th>OpenInt</th>\n",
              "    </tr>\n",
              "  </thead>\n",
              "  <tbody>\n",
              "    <tr>\n",
              "      <th>9154</th>\n",
              "      <td>2008-10-10</td>\n",
              "      <td>41.677</td>\n",
              "      <td>46.098</td>\n",
              "      <td>39.952</td>\n",
              "      <td>43.309</td>\n",
              "      <td>60688828</td>\n",
              "      <td>0</td>\n",
              "    </tr>\n",
              "    <tr>\n",
              "      <th>9155</th>\n",
              "      <td>2008-10-13</td>\n",
              "      <td>44.778</td>\n",
              "      <td>46.505</td>\n",
              "      <td>43.522</td>\n",
              "      <td>46.328</td>\n",
              "      <td>34767857</td>\n",
              "      <td>0</td>\n",
              "    </tr>\n",
              "    <tr>\n",
              "      <th>9156</th>\n",
              "      <td>2008-10-14</td>\n",
              "      <td>47.626</td>\n",
              "      <td>47.662</td>\n",
              "      <td>44.814</td>\n",
              "      <td>46.275</td>\n",
              "      <td>32660329</td>\n",
              "      <td>0</td>\n",
              "    </tr>\n",
              "    <tr>\n",
              "      <th>9157</th>\n",
              "      <td>2008-10-15</td>\n",
              "      <td>45.424</td>\n",
              "      <td>45.560</td>\n",
              "      <td>42.399</td>\n",
              "      <td>42.544</td>\n",
              "      <td>32870600</td>\n",
              "      <td>0</td>\n",
              "    </tr>\n",
              "    <tr>\n",
              "      <th>9158</th>\n",
              "      <td>2008-10-16</td>\n",
              "      <td>42.988</td>\n",
              "      <td>46.771</td>\n",
              "      <td>41.420</td>\n",
              "      <td>46.429</td>\n",
              "      <td>55747818</td>\n",
              "      <td>0</td>\n",
              "    </tr>\n",
              "  </tbody>\n",
              "</table>\n",
              "</div>\n",
              "      <button class=\"colab-df-convert\" onclick=\"convertToInteractive('df-2035524c-2a73-4f7a-9530-7cee70ab9dcb')\"\n",
              "              title=\"Convert this dataframe to an interactive table.\"\n",
              "              style=\"display:none;\">\n",
              "        \n",
              "  <svg xmlns=\"http://www.w3.org/2000/svg\" height=\"24px\"viewBox=\"0 0 24 24\"\n",
              "       width=\"24px\">\n",
              "    <path d=\"M0 0h24v24H0V0z\" fill=\"none\"/>\n",
              "    <path d=\"M18.56 5.44l.94 2.06.94-2.06 2.06-.94-2.06-.94-.94-2.06-.94 2.06-2.06.94zm-11 1L8.5 8.5l.94-2.06 2.06-.94-2.06-.94L8.5 2.5l-.94 2.06-2.06.94zm10 10l.94 2.06.94-2.06 2.06-.94-2.06-.94-.94-2.06-.94 2.06-2.06.94z\"/><path d=\"M17.41 7.96l-1.37-1.37c-.4-.4-.92-.59-1.43-.59-.52 0-1.04.2-1.43.59L10.3 9.45l-7.72 7.72c-.78.78-.78 2.05 0 2.83L4 21.41c.39.39.9.59 1.41.59.51 0 1.02-.2 1.41-.59l7.78-7.78 2.81-2.81c.8-.78.8-2.07 0-2.86zM5.41 20L4 18.59l7.72-7.72 1.47 1.35L5.41 20z\"/>\n",
              "  </svg>\n",
              "      </button>\n",
              "      \n",
              "  <style>\n",
              "    .colab-df-container {\n",
              "      display:flex;\n",
              "      flex-wrap:wrap;\n",
              "      gap: 12px;\n",
              "    }\n",
              "\n",
              "    .colab-df-convert {\n",
              "      background-color: #E8F0FE;\n",
              "      border: none;\n",
              "      border-radius: 50%;\n",
              "      cursor: pointer;\n",
              "      display: none;\n",
              "      fill: #1967D2;\n",
              "      height: 32px;\n",
              "      padding: 0 0 0 0;\n",
              "      width: 32px;\n",
              "    }\n",
              "\n",
              "    .colab-df-convert:hover {\n",
              "      background-color: #E2EBFA;\n",
              "      box-shadow: 0px 1px 2px rgba(60, 64, 67, 0.3), 0px 1px 3px 1px rgba(60, 64, 67, 0.15);\n",
              "      fill: #174EA6;\n",
              "    }\n",
              "\n",
              "    [theme=dark] .colab-df-convert {\n",
              "      background-color: #3B4455;\n",
              "      fill: #D2E3FC;\n",
              "    }\n",
              "\n",
              "    [theme=dark] .colab-df-convert:hover {\n",
              "      background-color: #434B5C;\n",
              "      box-shadow: 0px 1px 3px 1px rgba(0, 0, 0, 0.15);\n",
              "      filter: drop-shadow(0px 1px 2px rgba(0, 0, 0, 0.3));\n",
              "      fill: #FFFFFF;\n",
              "    }\n",
              "  </style>\n",
              "\n",
              "      <script>\n",
              "        const buttonEl =\n",
              "          document.querySelector('#df-2035524c-2a73-4f7a-9530-7cee70ab9dcb button.colab-df-convert');\n",
              "        buttonEl.style.display =\n",
              "          google.colab.kernel.accessAllowed ? 'block' : 'none';\n",
              "\n",
              "        async function convertToInteractive(key) {\n",
              "          const element = document.querySelector('#df-2035524c-2a73-4f7a-9530-7cee70ab9dcb');\n",
              "          const dataTable =\n",
              "            await google.colab.kernel.invokeFunction('convertToInteractive',\n",
              "                                                     [key], {});\n",
              "          if (!dataTable) return;\n",
              "\n",
              "          const docLinkHtml = 'Like what you see? Visit the ' +\n",
              "            '<a target=\"_blank\" href=https://colab.research.google.com/notebooks/data_table.ipynb>data table notebook</a>'\n",
              "            + ' to learn more about interactive tables.';\n",
              "          element.innerHTML = '';\n",
              "          dataTable['output_type'] = 'display_data';\n",
              "          await google.colab.output.renderOutput(dataTable, element);\n",
              "          const docLink = document.createElement('div');\n",
              "          docLink.innerHTML = docLinkHtml;\n",
              "          element.appendChild(docLink);\n",
              "        }\n",
              "      </script>\n",
              "    </div>\n",
              "  </div>\n",
              "  "
            ]
          },
          "metadata": {},
          "execution_count": 50
        }
      ]
    },
    {
      "cell_type": "code",
      "execution_count": null,
      "metadata": {
        "colab": {
          "base_uri": "https://localhost:8080/"
        },
        "id": "haXQ58S2fCUF",
        "outputId": "ad71cfa1-cdd3-423e-882c-c3d7e9417dea"
      },
      "outputs": [
        {
          "output_type": "stream",
          "name": "stdout",
          "text": [
            "SPY Real Price Shape:  (641, 1)\n"
          ]
        }
      ],
      "source": [
        "spy_realprice = test_Spy.loc[:, [\"Open\"]].values\n",
        "print(\"SPY Real Price Shape: \", spy_realprice.shape)"
      ]
    },
    {
      "cell_type": "code",
      "source": [
        "bac_realprice = test_bac.loc[:, [\"Open\"]].values\n",
        "print(\"BAC Real Price Shape: \", bac_realprice.shape)"
      ],
      "metadata": {
        "colab": {
          "base_uri": "https://localhost:8080/"
        },
        "id": "9z0MW2yx7GHk",
        "outputId": "ac965b67-d59e-4586-c8db-73d37fe9360c"
      },
      "execution_count": null,
      "outputs": [
        {
          "output_type": "stream",
          "name": "stdout",
          "text": [
            "BAC Real Price Shape:  (1586, 1)\n"
          ]
        }
      ]
    },
    {
      "cell_type": "code",
      "source": [
        "wmt_realprice = test_wmt.loc[:, [\"Open\"]].values\n",
        "print(\"WMT Real Price Shape: \", wmt_realprice.shape)"
      ],
      "metadata": {
        "colab": {
          "base_uri": "https://localhost:8080/"
        },
        "id": "UrXEfat47F-Y",
        "outputId": "76cb9c0f-7242-47d0-a1aa-b4152991b49b"
      },
      "execution_count": null,
      "outputs": [
        {
          "output_type": "stream",
          "name": "stdout",
          "text": [
            "WMT Real Price Shape:  (2289, 1)\n"
          ]
        }
      ]
    },
    {
      "cell_type": "code",
      "execution_count": null,
      "metadata": {
        "id": "0tCaU5J8gAU3"
      },
      "outputs": [],
      "source": [
        "spy_dataset_tol = pd.concat((df_Spy[\"Open\"], test_Spy[\"Open\"]), axis = 0)\n",
        "spy_inputs = spy_dataset_tol[len(spy_dataset_tol) - len(test_Spy) - timesteps_spy:].values.reshape(-1,1)\n",
        "spy_inputs = spy_scaler.transform(spy_inputs)"
      ]
    },
    {
      "cell_type": "code",
      "execution_count": null,
      "metadata": {
        "colab": {
          "base_uri": "https://localhost:8080/"
        },
        "id": "QgIQyN3Ug--2",
        "outputId": "1cbec806-bf5a-4b6f-b787-5ed3ad18b44b"
      },
      "outputs": [
        {
          "output_type": "stream",
          "name": "stdout",
          "text": [
            "X_test Shape (SPY):  (641, 40)\n"
          ]
        }
      ],
      "source": [
        "X_test_spy = []\n",
        "for i in range(timesteps_spy, 681):\n",
        "  X_test_spy.append(spy_inputs[i-timesteps_spy:i, 0])\n",
        "X_test_spy = np.array(X_test_spy)\n",
        "\n",
        "print(\"X_test Shape (SPY): \", X_test_spy.shape)"
      ]
    },
    {
      "cell_type": "code",
      "execution_count": null,
      "metadata": {
        "colab": {
          "base_uri": "https://localhost:8080/"
        },
        "id": "lAkyLiKciGnA",
        "outputId": "3372565a-a6d0-4252-a8b7-1c5f1dc3c218"
      },
      "outputs": [
        {
          "output_type": "stream",
          "name": "stdout",
          "text": [
            "21/21 [==============================] - 1s 12ms/step\n"
          ]
        }
      ],
      "source": [
        "X_test_spy = np.reshape(X_test_spy, (X_test_spy.shape[0], X_test_spy.shape[1], 1))\n",
        "predict_spy = regressor_spy.predict(X_test_spy)\n",
        "predict_spy = spy_scaler.inverse_transform(predict_spy)"
      ]
    },
    {
      "cell_type": "code",
      "source": [
        "bac_dataset_tol = pd.concat((df_Bac[\"Open\"], test_bac[\"Open\"]), axis = 0)\n",
        "bac_inputs = bac_dataset_tol[len(bac_dataset_tol) - len(test_bac) - timesteps_bac:].values.reshape(-1,1)\n",
        "bac_inputs = bac_scaler.transform(bac_inputs)\n",
        "\n",
        "X_test_bac = []\n",
        "for i in range(timesteps_bac, 1626):\n",
        "  X_test_bac.append(bac_inputs[i-timesteps_bac:i, 0])\n",
        "X_test_bac = np.array(X_test_bac)\n",
        "\n",
        "print(\"X_test Shape (BAC): \", X_test_bac.shape)"
      ],
      "metadata": {
        "colab": {
          "base_uri": "https://localhost:8080/"
        },
        "id": "YaU-c3X98mcK",
        "outputId": "fa1da7c7-0111-4a6a-e415-fccd3908b7ad"
      },
      "execution_count": null,
      "outputs": [
        {
          "output_type": "stream",
          "name": "stdout",
          "text": [
            "X_test Shape (BAC):  (1586, 40)\n"
          ]
        }
      ]
    },
    {
      "cell_type": "code",
      "source": [
        "X_test_bac = np.reshape(X_test_bac, (X_test_bac.shape[0], X_test_bac.shape[1], 1))\n",
        "predict_bac = regressor_bac.predict(X_test_bac)\n",
        "predict_bac = bac_scaler.inverse_transform(predict_bac)"
      ],
      "metadata": {
        "colab": {
          "base_uri": "https://localhost:8080/"
        },
        "id": "hSXaqA6Q8mYp",
        "outputId": "a4ff66f1-c83d-4479-9a78-0c0dc786465d"
      },
      "execution_count": null,
      "outputs": [
        {
          "output_type": "stream",
          "name": "stdout",
          "text": [
            "50/50 [==============================] - 1s 12ms/step\n"
          ]
        }
      ]
    },
    {
      "cell_type": "code",
      "source": [
        "wmt_dataset_tol = pd.concat((df_Wmt[\"Open\"], test_wmt[\"Open\"]), axis = 0)\n",
        "wmt_inputs = wmt_dataset_tol[len(wmt_dataset_tol) - len(test_wmt) - timesteps_wmt:].values.reshape(-1,1)\n",
        "wmt_inputs = wmt_scaler.transform(wmt_inputs)\n",
        "\n",
        "X_test_wmt = []\n",
        "for i in range(timesteps_wmt, 2329):\n",
        "  X_test_wmt.append(wmt_inputs[i-timesteps_wmt:i, 0])\n",
        "X_test_wmt = np.array(X_test_wmt)\n",
        "\n",
        "print(\"X_test Shape (WMT): \", X_test_wmt.shape)"
      ],
      "metadata": {
        "colab": {
          "base_uri": "https://localhost:8080/"
        },
        "id": "dFNrGyfb8mHw",
        "outputId": "e2089894-61b5-4fc6-b625-0097e883150c"
      },
      "execution_count": null,
      "outputs": [
        {
          "output_type": "stream",
          "name": "stdout",
          "text": [
            "X_test Shape (WMT):  (2289, 40)\n"
          ]
        }
      ]
    },
    {
      "cell_type": "code",
      "source": [
        "X_test_wmt = np.reshape(X_test_wmt, (X_test_wmt.shape[0], X_test_wmt.shape[1], 1))\n",
        "predict_wmt = regressor_wmt.predict(X_test_wmt)\n",
        "predict_wmt = wmt_scaler.inverse_transform(predict_wmt)"
      ],
      "metadata": {
        "colab": {
          "base_uri": "https://localhost:8080/"
        },
        "id": "DZ1zWyne8mFI",
        "outputId": "82538b89-24ce-415f-dd5d-0e4e722c93bd"
      },
      "execution_count": null,
      "outputs": [
        {
          "output_type": "stream",
          "name": "stdout",
          "text": [
            "72/72 [==============================] - 1s 11ms/step\n"
          ]
        }
      ]
    },
    {
      "cell_type": "markdown",
      "metadata": {
        "id": "B0NkzZWmjIZX"
      },
      "source": [
        "<h1>Evaluate the Model"
      ]
    },
    {
      "cell_type": "code",
      "execution_count": null,
      "metadata": {
        "colab": {
          "base_uri": "https://localhost:8080/",
          "height": 295
        },
        "id": "GEH58q5UjHtb",
        "outputId": "a4f15597-6c1d-46e4-ea9b-da706282264d"
      },
      "outputs": [
        {
          "output_type": "display_data",
          "data": {
            "text/plain": [
              "<Figure size 432x288 with 1 Axes>"
            ],
            "image/png": "[encoded data removed]"
          },
          "metadata": {
            "needs_background": "light"
          }
        }
      ],
      "source": [
        "plt.plot(spy_realprice, color = \"red\", label = \"Real Stock Price\")\n",
        "plt.plot(predict_spy, color = \"black\", label = \"Predict Stock Price\")\n",
        "plt.title(\"$SPY S&P 500 Price\")\n",
        "plt.xlabel(\"Time\")\n",
        "plt.ylabel(\"Price\")\n",
        "plt.legend()\n",
        "plt.show()"
      ]
    },
    {
      "cell_type": "code",
      "source": [
        "plt.plot(bac_realprice, color = \"red\", label = \"Real Stock Price\")\n",
        "plt.plot(predict_bac, color = \"black\", label = \"Predict Stock Price\")\n",
        "plt.title(\"$BAC Price\")\n",
        "plt.xlabel(\"Time\")\n",
        "plt.ylabel(\"Price\")\n",
        "plt.legend()\n",
        "plt.show()"
      ],
      "metadata": {
        "colab": {
          "base_uri": "https://localhost:8080/",
          "height": 295
        },
        "id": "KeXex1vI-sPz",
        "outputId": "2f4a7fe4-8e12-4c5e-c8d5-5a1756b2a84d"
      },
      "execution_count": null,
      "outputs": [
        {
          "output_type": "display_data",
          "data": {
            "text/plain": [
              "<Figure size 432x288 with 1 Axes>"
            ],
            "image/png": "[encoded data removed]"
          },
          "metadata": {
            "needs_background": "light"
          }
        }
      ]
    },
    {
      "cell_type": "code",
      "source": [
        "plt.plot(wmt_realprice, color = \"red\", label = \"Real Stock Price\")\n",
        "plt.plot(predict_wmt, color = \"black\", label = \"Predict Stock Price\")\n",
        "plt.title(\"$WMT Price\")\n",
        "plt.xlabel(\"Time\")\n",
        "plt.ylabel(\"Price\")\n",
        "plt.legend()\n",
        "plt.show()"
      ],
      "metadata": {
        "colab": {
          "base_uri": "https://localhost:8080/",
          "height": 295
        },
        "id": "YWOkfdhp-r2f",
        "outputId": "0e632413-d628-4ae1-dcd7-cefc83e17b02"
      },
      "execution_count": null,
      "outputs": [
        {
          "output_type": "display_data",
          "data": {
            "text/plain": [
              "<Figure size 432x288 with 1 Axes>"
            ],
            "image/png": "[encoded data removed]"
          },
          "metadata": {
            "needs_background": "light"
          }
        }
      ]
    },
    {
      "cell_type": "markdown",
      "metadata": {
        "id": "BBBPL4Fa5V86"
      },
      "source": [
        "<h1>LSTM Model"
      ]
    },
    {
      "cell_type": "code",
      "execution_count": null,
      "metadata": {
        "id": "HW6ehtCk5VNQ"
      },
      "outputs": [],
      "source": [
        "regressor_spy_ltsm = Sequential()\n",
        "\n",
        "regressor_spy_ltsm.add(LSTM(units = 50, return_sequences = True, input_shape = (X_test_spy.shape[1],1)))\n",
        "regressor_spy_ltsm.add(Dropout(0.2))\n",
        "\n",
        "regressor_spy_ltsm.add(LSTM(units = 50, return_sequences = True))\n",
        "regressor_spy_ltsm.add(Dropout(0.2))\n",
        "\n",
        "regressor_spy_ltsm.add(LSTM(units = 50, return_sequences = True))\n",
        "regressor_spy_ltsm.add(Dropout(0.2))\n",
        "\n",
        "regressor_spy_ltsm.add(LSTM(units = 50))\n",
        "regressor_spy_ltsm.add(Dropout(0.2))\n",
        "\n",
        "regressor_spy_ltsm.add(Dense(units = 1))"
      ]
    },
    {
      "cell_type": "code",
      "source": [
        "regressor_bac_ltsm = Sequential()\n",
        "\n",
        "regressor_bac_ltsm.add(LSTM(units = 50, return_sequences = True, input_shape = (X_test_bac.shape[1],1)))\n",
        "regressor_bac_ltsm.add(Dropout(0.2))\n",
        "\n",
        "regressor_bac_ltsm.add(LSTM(units = 50, return_sequences = True))\n",
        "regressor_bac_ltsm.add(Dropout(0.2))\n",
        "\n",
        "regressor_bac_ltsm.add(LSTM(units = 50, return_sequences = True))\n",
        "regressor_bac_ltsm.add(Dropout(0.2))\n",
        "\n",
        "regressor_bac_ltsm.add(LSTM(units = 50))\n",
        "regressor_bac_ltsm.add(Dropout(0.2))\n",
        "\n",
        "regressor_bac_ltsm.add(Dense(units = 1))"
      ],
      "metadata": {
        "id": "xjG45Yoy_JBL"
      },
      "execution_count": null,
      "outputs": []
    },
    {
      "cell_type": "code",
      "source": [
        "regressor_wmt_ltsm = Sequential()\n",
        "\n",
        "regressor_wmt_ltsm.add(LSTM(units = 50, return_sequences = True, input_shape = (X_test_wmt.shape[1],1)))\n",
        "regressor_wmt_ltsm.add(Dropout(0.2))\n",
        "\n",
        "regressor_wmt_ltsm.add(LSTM(units = 50, return_sequences = True))\n",
        "regressor_wmt_ltsm.add(Dropout(0.2))\n",
        "\n",
        "regressor_wmt_ltsm.add(LSTM(units = 50, return_sequences = True))\n",
        "regressor_wmt_ltsm.add(Dropout(0.2))\n",
        "\n",
        "regressor_wmt_ltsm.add(LSTM(units = 50))\n",
        "regressor_wmt_ltsm.add(Dropout(0.2))\n",
        "\n",
        "regressor_wmt_ltsm.add(Dense(units = 1))"
      ],
      "metadata": {
        "id": "MSnVMKOl_LMg"
      },
      "execution_count": null,
      "outputs": []
    },
    {
      "cell_type": "code",
      "execution_count": null,
      "metadata": {
        "id": "vENv23ZV7JVu"
      },
      "outputs": [],
      "source": [
        "regressor_spy_ltsm.compile(optimizer = \"Adam\", loss = \"mse\")"
      ]
    },
    {
      "cell_type": "code",
      "source": [
        "regressor_bac_ltsm.compile(optimizer = \"Adam\", loss = \"mse\")"
      ],
      "metadata": {
        "id": "NABXsn7c_Wtt"
      },
      "execution_count": null,
      "outputs": []
    },
    {
      "cell_type": "code",
      "source": [
        "regressor_wmt_ltsm.compile(optimizer = \"Adam\", loss = \"mse\")"
      ],
      "metadata": {
        "id": "hFF_h8Eq_WkX"
      },
      "execution_count": null,
      "outputs": []
    },
    {
      "cell_type": "code",
      "execution_count": null,
      "metadata": {
        "colab": {
          "base_uri": "https://localhost:8080/"
        },
        "id": "bWk2YS8_7T7X",
        "outputId": "cad77191-b26c-44f7-b29b-a1997663327c"
      },
      "outputs": [
        {
          "output_type": "stream",
          "name": "stdout",
          "text": [
            "Epoch 1/100\n",
            "126/126 [==============================] - 13s 59ms/step - loss: 0.0109\n",
            "Epoch 2/100\n",
            "126/126 [==============================] - 8s 60ms/step - loss: 0.0032\n",
            "Epoch 3/100\n",
            "126/126 [==============================] - 7s 59ms/step - loss: 0.0029\n",
            "Epoch 4/100\n",
            "126/126 [==============================] - 7s 59ms/step - loss: 0.0031\n",
            "Epoch 5/100\n",
            "126/126 [==============================] - 7s 59ms/step - loss: 0.0023\n",
            "Epoch 6/100\n",
            "126/126 [==============================] - 8s 60ms/step - loss: 0.0024\n",
            "Epoch 7/100\n",
            "126/126 [==============================] - 8s 60ms/step - loss: 0.0021\n",
            "Epoch 8/100\n",
            "126/126 [==============================] - 8s 60ms/step - loss: 0.0020\n",
            "Epoch 9/100\n",
            "126/126 [==============================] - 8s 60ms/step - loss: 0.0018\n",
            "Epoch 10/100\n",
            "126/126 [==============================] - 8s 60ms/step - loss: 0.0018\n",
            "Epoch 11/100\n",
            "126/126 [==============================] - 8s 60ms/step - loss: 0.0018\n",
            "Epoch 12/100\n",
            "126/126 [==============================] - 8s 60ms/step - loss: 0.0018\n",
            "Epoch 13/100\n",
            "126/126 [==============================] - 9s 68ms/step - loss: 0.0016\n",
            "Epoch 14/100\n",
            "126/126 [==============================] - 8s 60ms/step - loss: 0.0016\n",
            "Epoch 15/100\n",
            "126/126 [==============================] - 8s 60ms/step - loss: 0.0015\n",
            "Epoch 16/100\n",
            "126/126 [==============================] - 7s 59ms/step - loss: 0.0014\n",
            "Epoch 17/100\n",
            "126/126 [==============================] - 8s 61ms/step - loss: 0.0013\n",
            "Epoch 18/100\n",
            "126/126 [==============================] - 8s 60ms/step - loss: 0.0013\n",
            "Epoch 19/100\n",
            "126/126 [==============================] - 8s 60ms/step - loss: 0.0012\n",
            "Epoch 20/100\n",
            "126/126 [==============================] - 8s 60ms/step - loss: 0.0013\n",
            "Epoch 21/100\n",
            "126/126 [==============================] - 7s 59ms/step - loss: 0.0012\n",
            "Epoch 22/100\n",
            "126/126 [==============================] - 7s 59ms/step - loss: 0.0011\n",
            "Epoch 23/100\n",
            "126/126 [==============================] - 8s 60ms/step - loss: 0.0010\n",
            "Epoch 24/100\n",
            "126/126 [==============================] - 8s 60ms/step - loss: 0.0011\n",
            "Epoch 25/100\n",
            "126/126 [==============================] - 7s 59ms/step - loss: 0.0011\n",
            "Epoch 26/100\n",
            "126/126 [==============================] - 7s 59ms/step - loss: 9.9744e-04\n",
            "Epoch 27/100\n",
            "126/126 [==============================] - 8s 60ms/step - loss: 0.0010\n",
            "Epoch 28/100\n",
            "126/126 [==============================] - 8s 60ms/step - loss: 0.0010\n",
            "Epoch 29/100\n",
            "126/126 [==============================] - 7s 59ms/step - loss: 0.0011\n",
            "Epoch 30/100\n",
            "126/126 [==============================] - 8s 60ms/step - loss: 8.9869e-04\n",
            "Epoch 31/100\n",
            "126/126 [==============================] - 7s 59ms/step - loss: 8.7380e-04\n",
            "Epoch 32/100\n",
            "126/126 [==============================] - 7s 59ms/step - loss: 8.6579e-04\n",
            "Epoch 33/100\n",
            "126/126 [==============================] - 9s 70ms/step - loss: 9.4802e-04\n",
            "Epoch 34/100\n",
            "126/126 [==============================] - 8s 61ms/step - loss: 8.4956e-04\n",
            "Epoch 35/100\n",
            "126/126 [==============================] - 7s 59ms/step - loss: 8.5952e-04\n",
            "Epoch 36/100\n",
            "126/126 [==============================] - 7s 59ms/step - loss: 8.1728e-04\n",
            "Epoch 37/100\n",
            "126/126 [==============================] - 8s 60ms/step - loss: 7.7686e-04\n",
            "Epoch 38/100\n",
            "126/126 [==============================] - 8s 61ms/step - loss: 7.5512e-04\n",
            "Epoch 39/100\n",
            "126/126 [==============================] - 8s 60ms/step - loss: 7.1816e-04\n",
            "Epoch 40/100\n",
            "126/126 [==============================] - 8s 60ms/step - loss: 7.0326e-04\n",
            "Epoch 41/100\n",
            "126/126 [==============================] - 8s 60ms/step - loss: 7.7090e-04\n",
            "Epoch 42/100\n",
            "126/126 [==============================] - 8s 60ms/step - loss: 8.2912e-04\n",
            "Epoch 43/100\n",
            "126/126 [==============================] - 7s 59ms/step - loss: 7.8410e-04\n",
            "Epoch 44/100\n",
            "126/126 [==============================] - 7s 59ms/step - loss: 7.7609e-04\n",
            "Epoch 45/100\n",
            "126/126 [==============================] - 7s 59ms/step - loss: 7.2828e-04\n",
            "Epoch 46/100\n",
            "126/126 [==============================] - 7s 59ms/step - loss: 7.3681e-04\n",
            "Epoch 47/100\n",
            "126/126 [==============================] - 7s 59ms/step - loss: 7.5149e-04\n",
            "Epoch 48/100\n",
            "126/126 [==============================] - 7s 60ms/step - loss: 7.8104e-04\n",
            "Epoch 49/100\n",
            "126/126 [==============================] - 8s 62ms/step - loss: 5.9760e-04\n",
            "Epoch 50/100\n",
            "126/126 [==============================] - 8s 60ms/step - loss: 6.8454e-04\n",
            "Epoch 51/100\n",
            "126/126 [==============================] - 8s 60ms/step - loss: 6.2283e-04\n",
            "Epoch 52/100\n",
            "126/126 [==============================] - 8s 60ms/step - loss: 7.1887e-04\n",
            "Epoch 53/100\n",
            "126/126 [==============================] - 8s 64ms/step - loss: 6.6195e-04\n",
            "Epoch 54/100\n",
            "126/126 [==============================] - 8s 63ms/step - loss: 6.4409e-04\n",
            "Epoch 55/100\n",
            "126/126 [==============================] - 7s 59ms/step - loss: 5.5059e-04\n",
            "Epoch 56/100\n",
            "126/126 [==============================] - 8s 60ms/step - loss: 6.0812e-04\n",
            "Epoch 57/100\n",
            "126/126 [==============================] - 8s 60ms/step - loss: 6.6209e-04\n",
            "Epoch 58/100\n",
            "126/126 [==============================] - 8s 60ms/step - loss: 6.6875e-04\n",
            "Epoch 59/100\n",
            "126/126 [==============================] - 7s 59ms/step - loss: 7.2021e-04\n",
            "Epoch 60/100\n",
            "126/126 [==============================] - 8s 60ms/step - loss: 6.4643e-04\n",
            "Epoch 61/100\n",
            "126/126 [==============================] - 8s 60ms/step - loss: 6.7717e-04\n",
            "Epoch 62/100\n",
            "126/126 [==============================] - 7s 60ms/step - loss: 6.3505e-04\n",
            "Epoch 63/100\n",
            "126/126 [==============================] - 8s 60ms/step - loss: 6.1617e-04\n",
            "Epoch 64/100\n",
            "126/126 [==============================] - 8s 61ms/step - loss: 5.7986e-04\n",
            "Epoch 65/100\n",
            "126/126 [==============================] - 8s 60ms/step - loss: 6.5541e-04\n",
            "Epoch 66/100\n",
            "126/126 [==============================] - 8s 60ms/step - loss: 5.6004e-04\n",
            "Epoch 67/100\n",
            "126/126 [==============================] - 7s 59ms/step - loss: 6.2165e-04\n",
            "Epoch 68/100\n",
            "126/126 [==============================] - 7s 59ms/step - loss: 7.2436e-04\n",
            "Epoch 69/100\n",
            "126/126 [==============================] - 8s 61ms/step - loss: 6.0237e-04\n",
            "Epoch 70/100\n",
            "126/126 [==============================] - 8s 61ms/step - loss: 6.3299e-04\n",
            "Epoch 71/100\n",
            "126/126 [==============================] - 8s 60ms/step - loss: 5.7012e-04\n",
            "Epoch 72/100\n",
            "126/126 [==============================] - 8s 60ms/step - loss: 5.8149e-04\n",
            "Epoch 73/100\n",
            "126/126 [==============================] - 8s 60ms/step - loss: 5.1428e-04\n",
            "Epoch 74/100\n",
            "126/126 [==============================] - 9s 69ms/step - loss: 5.6299e-04\n",
            "Epoch 75/100\n",
            "126/126 [==============================] - 8s 61ms/step - loss: 5.4896e-04\n",
            "Epoch 76/100\n",
            "126/126 [==============================] - 8s 60ms/step - loss: 5.8990e-04\n",
            "Epoch 77/100\n",
            "126/126 [==============================] - 8s 60ms/step - loss: 6.2634e-04\n",
            "Epoch 78/100\n",
            "126/126 [==============================] - 8s 60ms/step - loss: 5.2032e-04\n",
            "Epoch 79/100\n",
            "126/126 [==============================] - 8s 62ms/step - loss: 5.4215e-04\n",
            "Epoch 80/100\n",
            "126/126 [==============================] - 8s 60ms/step - loss: 5.5556e-04\n",
            "Epoch 81/100\n",
            "126/126 [==============================] - 8s 61ms/step - loss: 5.5749e-04\n",
            "Epoch 82/100\n",
            "126/126 [==============================] - 8s 61ms/step - loss: 6.3257e-04\n",
            "Epoch 83/100\n",
            "126/126 [==============================] - 8s 60ms/step - loss: 5.7715e-04\n",
            "Epoch 84/100\n",
            "126/126 [==============================] - 8s 61ms/step - loss: 6.1577e-04\n",
            "Epoch 85/100\n",
            "126/126 [==============================] - 8s 60ms/step - loss: 6.7605e-04\n",
            "Epoch 86/100\n",
            "126/126 [==============================] - 7s 59ms/step - loss: 5.5004e-04\n",
            "Epoch 87/100\n",
            "126/126 [==============================] - 8s 61ms/step - loss: 5.5243e-04\n",
            "Epoch 88/100\n",
            "126/126 [==============================] - 8s 60ms/step - loss: 6.3108e-04\n",
            "Epoch 89/100\n",
            "126/126 [==============================] - 8s 61ms/step - loss: 5.4383e-04\n",
            "Epoch 90/100\n",
            "126/126 [==============================] - 7s 59ms/step - loss: 5.5769e-04\n",
            "Epoch 91/100\n",
            "126/126 [==============================] - 8s 60ms/step - loss: 5.3402e-04\n",
            "Epoch 92/100\n",
            "126/126 [==============================] - 7s 59ms/step - loss: 5.9606e-04\n",
            "Epoch 93/100\n",
            "126/126 [==============================] - 7s 59ms/step - loss: 6.3830e-04\n",
            "Epoch 94/100\n",
            "126/126 [==============================] - 8s 67ms/step - loss: 5.2750e-04\n",
            "Epoch 95/100\n",
            "126/126 [==============================] - 7s 59ms/step - loss: 5.6024e-04\n",
            "Epoch 96/100\n",
            "126/126 [==============================] - 8s 60ms/step - loss: 6.5678e-04\n",
            "Epoch 97/100\n",
            "126/126 [==============================] - 8s 60ms/step - loss: 5.4254e-04\n",
            "Epoch 98/100\n",
            "126/126 [==============================] - 7s 59ms/step - loss: 5.6301e-04\n",
            "Epoch 99/100\n",
            "126/126 [==============================] - 8s 60ms/step - loss: 5.6530e-04\n",
            "Epoch 100/100\n",
            "126/126 [==============================] - 8s 60ms/step - loss: 5.3711e-04\n"
          ]
        },
        {
          "output_type": "execute_result",
          "data": {
            "text/plain": [
              "<keras.callbacks.History at 0x7fd2113b47c0>"
            ]
          },
          "metadata": {},
          "execution_count": 23
        }
      ],
      "source": [
        "regressor_spy_ltsm.fit(X_train_spy, y_train_spy, epochs = 100, batch_size = 20) "
      ]
    },
    {
      "cell_type": "code",
      "source": [
        "regressor_bac_ltsm.fit(X_train_bac, y_train_bac, epochs = 100, batch_size = 20)"
      ],
      "metadata": {
        "colab": {
          "base_uri": "https://localhost:8080/"
        },
        "id": "TjejQA9P_iFL",
        "outputId": "2b82c8db-0dcb-4ab8-8602-aa0b271d3319"
      },
      "execution_count": null,
      "outputs": [
        {
          "output_type": "stream",
          "name": "stdout",
          "text": [
            "Epoch 1/100\n",
            "316/316 [==============================] - 32s 76ms/step - loss: 0.0057\n",
            "Epoch 2/100\n",
            "316/316 [==============================] - 24s 77ms/step - loss: 0.0027\n",
            "Epoch 3/100\n",
            "316/316 [==============================] - 25s 80ms/step - loss: 0.0024\n",
            "Epoch 4/100\n",
            "316/316 [==============================] - 25s 79ms/step - loss: 0.0020\n",
            "Epoch 5/100\n",
            "316/316 [==============================] - 27s 85ms/step - loss: 0.0019\n",
            "Epoch 6/100\n",
            "316/316 [==============================] - 24s 76ms/step - loss: 0.0017\n",
            "Epoch 7/100\n",
            "316/316 [==============================] - 24s 77ms/step - loss: 0.0014\n",
            "Epoch 8/100\n",
            "316/316 [==============================] - 26s 81ms/step - loss: 0.0015\n",
            "Epoch 9/100\n",
            "316/316 [==============================] - 24s 76ms/step - loss: 0.0014\n",
            "Epoch 10/100\n",
            "316/316 [==============================] - 24s 77ms/step - loss: 0.0013\n",
            "Epoch 11/100\n",
            "316/316 [==============================] - 24s 76ms/step - loss: 0.0013\n",
            "Epoch 12/100\n",
            "316/316 [==============================] - 24s 76ms/step - loss: 0.0013\n",
            "Epoch 13/100\n",
            "316/316 [==============================] - 25s 80ms/step - loss: 0.0012\n",
            "Epoch 14/100\n",
            "316/316 [==============================] - 24s 77ms/step - loss: 0.0012\n",
            "Epoch 15/100\n",
            "316/316 [==============================] - 24s 76ms/step - loss: 0.0011\n",
            "Epoch 16/100\n",
            "316/316 [==============================] - 24s 76ms/step - loss: 0.0011\n",
            "Epoch 17/100\n",
            "316/316 [==============================] - 24s 76ms/step - loss: 0.0011\n",
            "Epoch 18/100\n",
            "316/316 [==============================] - 24s 75ms/step - loss: 0.0010\n",
            "Epoch 19/100\n",
            "316/316 [==============================] - 25s 80ms/step - loss: 0.0011\n",
            "Epoch 20/100\n",
            "316/316 [==============================] - 24s 76ms/step - loss: 9.5946e-04\n",
            "Epoch 21/100\n",
            "316/316 [==============================] - 24s 77ms/step - loss: 0.0010\n",
            "Epoch 22/100\n",
            "316/316 [==============================] - 24s 75ms/step - loss: 0.0011\n",
            "Epoch 23/100\n",
            "316/316 [==============================] - 24s 75ms/step - loss: 9.6644e-04\n",
            "Epoch 24/100\n",
            "316/316 [==============================] - 25s 80ms/step - loss: 0.0010\n",
            "Epoch 25/100\n",
            "316/316 [==============================] - 24s 76ms/step - loss: 9.5363e-04\n",
            "Epoch 26/100\n",
            "316/316 [==============================] - 24s 76ms/step - loss: 0.0010\n",
            "Epoch 27/100\n",
            "316/316 [==============================] - 24s 77ms/step - loss: 8.7371e-04\n",
            "Epoch 28/100\n",
            "316/316 [==============================] - 24s 76ms/step - loss: 9.7009e-04\n",
            "Epoch 29/100\n",
            "316/316 [==============================] - 30s 94ms/step - loss: 9.4243e-04\n",
            "Epoch 30/100\n",
            "316/316 [==============================] - 24s 77ms/step - loss: 9.3654e-04\n",
            "Epoch 31/100\n",
            "316/316 [==============================] - 24s 77ms/step - loss: 9.0877e-04\n",
            "Epoch 32/100\n",
            "316/316 [==============================] - 24s 76ms/step - loss: 9.0748e-04\n",
            "Epoch 33/100\n",
            "316/316 [==============================] - 24s 76ms/step - loss: 9.0049e-04\n",
            "Epoch 34/100\n",
            "316/316 [==============================] - 26s 81ms/step - loss: 8.8211e-04\n",
            "Epoch 35/100\n",
            "316/316 [==============================] - 24s 76ms/step - loss: 9.2644e-04\n",
            "Epoch 36/100\n",
            "316/316 [==============================] - 24s 76ms/step - loss: 8.2263e-04\n",
            "Epoch 37/100\n",
            "316/316 [==============================] - 24s 77ms/step - loss: 9.4465e-04\n",
            "Epoch 38/100\n",
            "316/316 [==============================] - 24s 75ms/step - loss: 8.7243e-04\n",
            "Epoch 39/100\n",
            "316/316 [==============================] - 24s 76ms/step - loss: 8.1587e-04\n",
            "Epoch 40/100\n",
            "316/316 [==============================] - 25s 80ms/step - loss: 8.5539e-04\n",
            "Epoch 41/100\n",
            "316/316 [==============================] - 24s 77ms/step - loss: 8.3019e-04\n",
            "Epoch 42/100\n",
            "316/316 [==============================] - 27s 87ms/step - loss: 8.4294e-04\n",
            "Epoch 43/100\n",
            "316/316 [==============================] - 26s 82ms/step - loss: 8.2424e-04\n",
            "Epoch 44/100\n",
            "316/316 [==============================] - 24s 77ms/step - loss: 8.3143e-04\n",
            "Epoch 45/100\n",
            "316/316 [==============================] - 25s 80ms/step - loss: 7.8383e-04\n",
            "Epoch 46/100\n",
            "316/316 [==============================] - 24s 77ms/step - loss: 8.1136e-04\n",
            "Epoch 47/100\n",
            "316/316 [==============================] - 24s 75ms/step - loss: 8.0235e-04\n",
            "Epoch 48/100\n",
            "316/316 [==============================] - 24s 75ms/step - loss: 8.2359e-04\n",
            "Epoch 49/100\n",
            "316/316 [==============================] - 24s 76ms/step - loss: 8.1644e-04\n",
            "Epoch 50/100\n",
            "316/316 [==============================] - 25s 79ms/step - loss: 7.6681e-04\n",
            "Epoch 51/100\n",
            "316/316 [==============================] - 24s 76ms/step - loss: 7.8645e-04\n",
            "Epoch 52/100\n",
            "316/316 [==============================] - 24s 76ms/step - loss: 8.0952e-04\n",
            "Epoch 53/100\n",
            "316/316 [==============================] - 24s 75ms/step - loss: 8.1089e-04\n",
            "Epoch 54/100\n",
            "316/316 [==============================] - 24s 75ms/step - loss: 7.9712e-04\n",
            "Epoch 55/100\n",
            "316/316 [==============================] - 25s 79ms/step - loss: 7.7768e-04\n",
            "Epoch 56/100\n",
            "316/316 [==============================] - 24s 77ms/step - loss: 7.6705e-04\n",
            "Epoch 57/100\n",
            "316/316 [==============================] - 24s 76ms/step - loss: 7.4597e-04\n",
            "Epoch 58/100\n",
            "316/316 [==============================] - 24s 77ms/step - loss: 7.4869e-04\n",
            "Epoch 59/100\n",
            "316/316 [==============================] - 24s 76ms/step - loss: 7.9224e-04\n",
            "Epoch 60/100\n",
            "316/316 [==============================] - 25s 79ms/step - loss: 8.0783e-04\n",
            "Epoch 61/100\n",
            "316/316 [==============================] - 24s 76ms/step - loss: 7.6129e-04\n",
            "Epoch 62/100\n",
            "316/316 [==============================] - 24s 75ms/step - loss: 7.4031e-04\n",
            "Epoch 63/100\n",
            "316/316 [==============================] - 24s 75ms/step - loss: 7.7351e-04\n",
            "Epoch 64/100\n",
            "316/316 [==============================] - 24s 75ms/step - loss: 7.9639e-04\n",
            "Epoch 65/100\n",
            "316/316 [==============================] - 25s 79ms/step - loss: 7.9380e-04\n",
            "Epoch 66/100\n",
            "316/316 [==============================] - 24s 75ms/step - loss: 7.5696e-04\n",
            "Epoch 67/100\n",
            "316/316 [==============================] - 24s 75ms/step - loss: 7.9414e-04\n",
            "Epoch 68/100\n",
            "316/316 [==============================] - 24s 76ms/step - loss: 7.5717e-04\n",
            "Epoch 69/100\n",
            "316/316 [==============================] - 24s 75ms/step - loss: 7.7491e-04\n",
            "Epoch 70/100\n",
            "316/316 [==============================] - 24s 75ms/step - loss: 7.2629e-04\n",
            "Epoch 71/100\n",
            "316/316 [==============================] - 25s 79ms/step - loss: 7.1683e-04\n",
            "Epoch 72/100\n",
            "316/316 [==============================] - 24s 76ms/step - loss: 7.5181e-04\n",
            "Epoch 73/100\n",
            "316/316 [==============================] - 24s 75ms/step - loss: 7.2112e-04\n",
            "Epoch 74/100\n",
            "316/316 [==============================] - 24s 76ms/step - loss: 7.1405e-04\n",
            "Epoch 75/100\n",
            "316/316 [==============================] - 24s 75ms/step - loss: 7.1894e-04\n",
            "Epoch 76/100\n",
            "316/316 [==============================] - 25s 78ms/step - loss: 7.4513e-04\n",
            "Epoch 77/100\n",
            "316/316 [==============================] - 24s 75ms/step - loss: 7.5369e-04\n",
            "Epoch 78/100\n",
            "316/316 [==============================] - 24s 75ms/step - loss: 7.0448e-04\n",
            "Epoch 79/100\n",
            "316/316 [==============================] - 24s 75ms/step - loss: 7.6310e-04\n",
            "Epoch 80/100\n",
            "316/316 [==============================] - 24s 75ms/step - loss: 7.1314e-04\n",
            "Epoch 81/100\n",
            "316/316 [==============================] - 25s 80ms/step - loss: 7.3160e-04\n",
            "Epoch 82/100\n",
            "316/316 [==============================] - 24s 76ms/step - loss: 7.2704e-04\n",
            "Epoch 83/100\n",
            "316/316 [==============================] - 24s 76ms/step - loss: 7.1515e-04\n",
            "Epoch 84/100\n",
            "316/316 [==============================] - 24s 76ms/step - loss: 7.4542e-04\n",
            "Epoch 85/100\n",
            "316/316 [==============================] - 24s 76ms/step - loss: 7.2300e-04\n",
            "Epoch 86/100\n",
            "316/316 [==============================] - 25s 80ms/step - loss: 7.3785e-04\n",
            "Epoch 87/100\n",
            "316/316 [==============================] - 24s 77ms/step - loss: 6.9446e-04\n",
            "Epoch 88/100\n",
            "316/316 [==============================] - 24s 77ms/step - loss: 6.8541e-04\n",
            "Epoch 89/100\n",
            "316/316 [==============================] - 25s 79ms/step - loss: 6.8401e-04\n",
            "Epoch 90/100\n",
            "316/316 [==============================] - 25s 78ms/step - loss: 6.9408e-04\n",
            "Epoch 91/100\n",
            "316/316 [==============================] - 26s 82ms/step - loss: 7.0380e-04\n",
            "Epoch 92/100\n",
            "316/316 [==============================] - 24s 76ms/step - loss: 7.2566e-04\n",
            "Epoch 93/100\n",
            "316/316 [==============================] - 24s 76ms/step - loss: 7.3062e-04\n",
            "Epoch 94/100\n",
            "316/316 [==============================] - 24s 76ms/step - loss: 7.1914e-04\n",
            "Epoch 95/100\n",
            "316/316 [==============================] - 24s 75ms/step - loss: 7.2576e-04\n",
            "Epoch 96/100\n",
            "316/316 [==============================] - 25s 79ms/step - loss: 6.7251e-04\n",
            "Epoch 97/100\n",
            "316/316 [==============================] - 24s 76ms/step - loss: 7.0798e-04\n",
            "Epoch 98/100\n",
            "316/316 [==============================] - 24s 76ms/step - loss: 6.9613e-04\n",
            "Epoch 99/100\n",
            "316/316 [==============================] - 24s 76ms/step - loss: 6.9547e-04\n",
            "Epoch 100/100\n",
            "316/316 [==============================] - 24s 77ms/step - loss: 7.2134e-04\n"
          ]
        },
        {
          "output_type": "execute_result",
          "data": {
            "text/plain": [
              "<keras.callbacks.History at 0x7fd206436370>"
            ]
          },
          "metadata": {},
          "execution_count": 79
        }
      ]
    },
    {
      "cell_type": "code",
      "source": [
        "regressor_wmt_ltsm.fit(X_train_wmt, y_train_wmt, epochs = 100, batch_size = 20)"
      ],
      "metadata": {
        "colab": {
          "base_uri": "https://localhost:8080/"
        },
        "id": "Jfs_10Mi_iw2",
        "outputId": "f845f757-6b3d-471e-9218-e4d25eef9596"
      },
      "execution_count": null,
      "outputs": [
        {
          "output_type": "stream",
          "name": "stdout",
          "text": [
            "Epoch 1/100\n",
            "456/456 [==============================] - 41s 76ms/step - loss: 0.0034\n",
            "Epoch 2/100\n",
            "456/456 [==============================] - 34s 75ms/step - loss: 0.0017\n",
            "Epoch 3/100\n",
            "456/456 [==============================] - 35s 76ms/step - loss: 0.0015\n",
            "Epoch 4/100\n",
            "456/456 [==============================] - 36s 78ms/step - loss: 0.0013\n",
            "Epoch 5/100\n",
            "456/456 [==============================] - 35s 76ms/step - loss: 0.0013\n",
            "Epoch 6/100\n",
            "456/456 [==============================] - 34s 75ms/step - loss: 0.0012\n",
            "Epoch 7/100\n",
            "456/456 [==============================] - 36s 78ms/step - loss: 0.0012\n",
            "Epoch 8/100\n",
            "456/456 [==============================] - 35s 76ms/step - loss: 0.0011\n",
            "Epoch 9/100\n",
            "456/456 [==============================] - 35s 77ms/step - loss: 0.0011\n",
            "Epoch 10/100\n",
            "456/456 [==============================] - 35s 76ms/step - loss: 0.0011\n",
            "Epoch 11/100\n",
            "456/456 [==============================] - 36s 79ms/step - loss: 0.0010\n",
            "Epoch 12/100\n",
            "456/456 [==============================] - 36s 78ms/step - loss: 0.0011\n",
            "Epoch 13/100\n",
            "456/456 [==============================] - 35s 76ms/step - loss: 0.0011\n",
            "Epoch 14/100\n",
            "456/456 [==============================] - 35s 76ms/step - loss: 0.0011\n",
            "Epoch 15/100\n",
            "456/456 [==============================] - 35s 77ms/step - loss: 9.8220e-04\n",
            "Epoch 16/100\n",
            "456/456 [==============================] - 35s 77ms/step - loss: 9.4526e-04\n",
            "Epoch 17/100\n",
            "456/456 [==============================] - 35s 76ms/step - loss: 9.1226e-04\n",
            "Epoch 18/100\n",
            "456/456 [==============================] - 36s 78ms/step - loss: 9.4944e-04\n",
            "Epoch 19/100\n",
            "456/456 [==============================] - 35s 77ms/step - loss: 9.0260e-04\n",
            "Epoch 20/100\n",
            "456/456 [==============================] - 35s 76ms/step - loss: 9.1732e-04\n",
            "Epoch 21/100\n",
            "456/456 [==============================] - 35s 76ms/step - loss: 9.0108e-04\n",
            "Epoch 22/100\n",
            "456/456 [==============================] - 36s 78ms/step - loss: 8.7020e-04\n",
            "Epoch 23/100\n",
            "456/456 [==============================] - 35s 76ms/step - loss: 8.4524e-04\n",
            "Epoch 24/100\n",
            "456/456 [==============================] - 35s 76ms/step - loss: 8.2547e-04\n",
            "Epoch 25/100\n",
            "456/456 [==============================] - 35s 77ms/step - loss: 8.8677e-04\n",
            "Epoch 26/100\n",
            "456/456 [==============================] - 36s 79ms/step - loss: 8.3333e-04\n",
            "Epoch 27/100\n",
            "456/456 [==============================] - 35s 77ms/step - loss: 8.8545e-04\n",
            "Epoch 28/100\n",
            "456/456 [==============================] - 35s 77ms/step - loss: 8.0076e-04\n",
            "Epoch 29/100\n",
            "456/456 [==============================] - 36s 79ms/step - loss: 8.7181e-04\n",
            "Epoch 30/100\n",
            "456/456 [==============================] - 35s 76ms/step - loss: 8.2427e-04\n",
            "Epoch 31/100\n",
            "456/456 [==============================] - 35s 76ms/step - loss: 7.6412e-04\n",
            "Epoch 32/100\n",
            "456/456 [==============================] - 35s 77ms/step - loss: 7.8624e-04\n",
            "Epoch 33/100\n",
            "456/456 [==============================] - 36s 78ms/step - loss: 7.9248e-04\n",
            "Epoch 34/100\n",
            "456/456 [==============================] - 34s 76ms/step - loss: 7.8857e-04\n",
            "Epoch 35/100\n",
            "456/456 [==============================] - 35s 76ms/step - loss: 8.1065e-04\n",
            "Epoch 36/100\n",
            "456/456 [==============================] - 35s 77ms/step - loss: 7.6244e-04\n",
            "Epoch 37/100\n",
            "456/456 [==============================] - 37s 80ms/step - loss: 8.0317e-04\n",
            "Epoch 38/100\n",
            "456/456 [==============================] - 35s 77ms/step - loss: 8.1505e-04\n",
            "Epoch 39/100\n",
            "456/456 [==============================] - 35s 78ms/step - loss: 8.3054e-04\n",
            "Epoch 40/100\n",
            "456/456 [==============================] - 36s 78ms/step - loss: 7.8367e-04\n",
            "Epoch 41/100\n",
            "456/456 [==============================] - 35s 76ms/step - loss: 7.5311e-04\n",
            "Epoch 42/100\n",
            "456/456 [==============================] - 35s 76ms/step - loss: 7.7641e-04\n",
            "Epoch 43/100\n",
            "456/456 [==============================] - 35s 76ms/step - loss: 7.7055e-04\n",
            "Epoch 44/100\n",
            "456/456 [==============================] - 36s 79ms/step - loss: 7.8661e-04\n",
            "Epoch 45/100\n",
            "456/456 [==============================] - 35s 77ms/step - loss: 7.6535e-04\n",
            "Epoch 46/100\n",
            "456/456 [==============================] - 34s 76ms/step - loss: 7.2700e-04\n",
            "Epoch 47/100\n",
            "456/456 [==============================] - 35s 77ms/step - loss: 7.4674e-04\n",
            "Epoch 48/100\n",
            "456/456 [==============================] - 36s 79ms/step - loss: 7.4258e-04\n",
            "Epoch 49/100\n",
            "456/456 [==============================] - 35s 77ms/step - loss: 7.6131e-04\n",
            "Epoch 50/100\n",
            "456/456 [==============================] - 35s 77ms/step - loss: 7.5158e-04\n",
            "Epoch 51/100\n",
            "456/456 [==============================] - 36s 78ms/step - loss: 6.9675e-04\n",
            "Epoch 52/100\n",
            "456/456 [==============================] - 36s 80ms/step - loss: 7.3482e-04\n",
            "Epoch 53/100\n",
            "456/456 [==============================] - 35s 76ms/step - loss: 7.4589e-04\n",
            "Epoch 54/100\n",
            "456/456 [==============================] - 34s 76ms/step - loss: 7.5909e-04\n",
            "Epoch 55/100\n",
            "456/456 [==============================] - 36s 79ms/step - loss: 7.3526e-04\n",
            "Epoch 56/100\n",
            "456/456 [==============================] - 35s 76ms/step - loss: 7.1500e-04\n",
            "Epoch 57/100\n",
            "456/456 [==============================] - 35s 76ms/step - loss: 7.3834e-04\n",
            "Epoch 58/100\n",
            "456/456 [==============================] - 35s 76ms/step - loss: 6.9482e-04\n",
            "Epoch 59/100\n",
            "456/456 [==============================] - 36s 79ms/step - loss: 7.4615e-04\n",
            "Epoch 60/100\n",
            "456/456 [==============================] - 35s 77ms/step - loss: 7.0366e-04\n",
            "Epoch 61/100\n",
            "456/456 [==============================] - 35s 76ms/step - loss: 7.4508e-04\n",
            "Epoch 62/100\n",
            "456/456 [==============================] - 35s 76ms/step - loss: 6.8084e-04\n",
            "Epoch 63/100\n",
            "456/456 [==============================] - 36s 80ms/step - loss: 7.3582e-04\n",
            "Epoch 64/100\n",
            "456/456 [==============================] - 35s 78ms/step - loss: 7.3454e-04\n",
            "Epoch 65/100\n",
            "456/456 [==============================] - 35s 77ms/step - loss: 7.3011e-04\n",
            "Epoch 66/100\n",
            "456/456 [==============================] - 36s 78ms/step - loss: 6.8745e-04\n",
            "Epoch 67/100\n",
            "456/456 [==============================] - 36s 79ms/step - loss: 6.9968e-04\n",
            "Epoch 68/100\n",
            "456/456 [==============================] - 35s 76ms/step - loss: 6.6275e-04\n",
            "Epoch 69/100\n",
            "456/456 [==============================] - 35s 76ms/step - loss: 7.2574e-04\n",
            "Epoch 70/100\n",
            "456/456 [==============================] - 36s 79ms/step - loss: 7.0118e-04\n",
            "Epoch 71/100\n",
            "456/456 [==============================] - 35s 76ms/step - loss: 7.0491e-04\n",
            "Epoch 72/100\n",
            "456/456 [==============================] - 35s 76ms/step - loss: 6.9303e-04\n",
            "Epoch 73/100\n",
            "456/456 [==============================] - 35s 78ms/step - loss: 6.8202e-04\n",
            "Epoch 74/100\n",
            "456/456 [==============================] - 36s 79ms/step - loss: 7.0986e-04\n",
            "Epoch 75/100\n",
            "456/456 [==============================] - 35s 76ms/step - loss: 7.0724e-04\n",
            "Epoch 76/100\n",
            "456/456 [==============================] - 35s 76ms/step - loss: 7.0108e-04\n",
            "Epoch 77/100\n",
            "456/456 [==============================] - 35s 76ms/step - loss: 6.9956e-04\n",
            "Epoch 78/100\n",
            "456/456 [==============================] - 36s 79ms/step - loss: 6.8388e-04\n",
            "Epoch 79/100\n",
            "456/456 [==============================] - 35s 76ms/step - loss: 6.8872e-04\n",
            "Epoch 80/100\n",
            "456/456 [==============================] - 34s 76ms/step - loss: 6.7057e-04\n",
            "Epoch 81/100\n",
            "456/456 [==============================] - 35s 76ms/step - loss: 6.7921e-04\n",
            "Epoch 82/100\n",
            "456/456 [==============================] - 36s 79ms/step - loss: 6.7579e-04\n",
            "Epoch 83/100\n",
            "456/456 [==============================] - 35s 76ms/step - loss: 6.9556e-04\n",
            "Epoch 84/100\n",
            "456/456 [==============================] - 35s 77ms/step - loss: 6.9362e-04\n",
            "Epoch 85/100\n",
            "456/456 [==============================] - 35s 77ms/step - loss: 6.9912e-04\n",
            "Epoch 86/100\n",
            "456/456 [==============================] - 36s 80ms/step - loss: 6.5804e-04\n",
            "Epoch 87/100\n",
            "456/456 [==============================] - 35s 77ms/step - loss: 6.5738e-04\n",
            "Epoch 88/100\n",
            "456/456 [==============================] - 35s 76ms/step - loss: 6.7901e-04\n",
            "Epoch 89/100\n",
            "456/456 [==============================] - 35s 77ms/step - loss: 6.8540e-04\n",
            "Epoch 90/100\n",
            "456/456 [==============================] - 35s 76ms/step - loss: 7.1673e-04\n",
            "Epoch 91/100\n",
            "456/456 [==============================] - 35s 76ms/step - loss: 7.0180e-04\n",
            "Epoch 92/100\n",
            "456/456 [==============================] - 34s 76ms/step - loss: 7.2476e-04\n",
            "Epoch 93/100\n",
            "456/456 [==============================] - 36s 79ms/step - loss: 6.6640e-04\n",
            "Epoch 94/100\n",
            "456/456 [==============================] - 34s 75ms/step - loss: 6.8018e-04\n",
            "Epoch 95/100\n",
            "456/456 [==============================] - 34s 75ms/step - loss: 6.7261e-04\n",
            "Epoch 96/100\n",
            "456/456 [==============================] - 34s 75ms/step - loss: 6.8154e-04\n",
            "Epoch 97/100\n",
            "456/456 [==============================] - 36s 79ms/step - loss: 6.8944e-04\n",
            "Epoch 98/100\n",
            "456/456 [==============================] - 34s 76ms/step - loss: 6.9622e-04\n",
            "Epoch 99/100\n",
            "456/456 [==============================] - 35s 76ms/step - loss: 6.5724e-04\n",
            "Epoch 100/100\n",
            "456/456 [==============================] - 35s 77ms/step - loss: 6.9075e-04\n"
          ]
        },
        {
          "output_type": "execute_result",
          "data": {
            "text/plain": [
              "<keras.callbacks.History at 0x7fd204373550>"
            ]
          },
          "metadata": {},
          "execution_count": 80
        }
      ]
    },
    {
      "cell_type": "code",
      "execution_count": null,
      "metadata": {
        "colab": {
          "base_uri": "https://localhost:8080/"
        },
        "id": "t195UuoKBtnT",
        "outputId": "5e36a26d-4749-406b-a16c-d637fb1b9187"
      },
      "outputs": [
        {
          "output_type": "stream",
          "name": "stdout",
          "text": [
            "21/21 [==============================] - 2s 22ms/step\n"
          ]
        }
      ],
      "source": [
        "predict_spy_lstm = regressor_spy_ltsm.predict(X_test_spy)\n",
        "predict_spy_lstm = spy_scaler.inverse_transform(predict_spy_lstm)"
      ]
    },
    {
      "cell_type": "code",
      "source": [
        "predict_bac_lstm = regressor_bac_ltsm.predict(X_test_bac)\n",
        "predict_bac_lstm = bac_scaler.inverse_transform(predict_bac_lstm)"
      ],
      "metadata": {
        "colab": {
          "base_uri": "https://localhost:8080/"
        },
        "id": "kzk57zgjCU5b",
        "outputId": "5ebb1c76-0ac5-4457-f92a-8bdf2ddb13c2"
      },
      "execution_count": null,
      "outputs": [
        {
          "output_type": "stream",
          "name": "stdout",
          "text": [
            "50/50 [==============================] - 3s 23ms/step\n"
          ]
        }
      ]
    },
    {
      "cell_type": "code",
      "source": [
        "predict_wmt_lstm = regressor_wmt_ltsm.predict(X_test_wmt)\n",
        "predict_wmt_lstm = wmt_scaler.inverse_transform(predict_wmt_lstm)"
      ],
      "metadata": {
        "colab": {
          "base_uri": "https://localhost:8080/"
        },
        "id": "PDuMEgHnCXFX",
        "outputId": "528410b3-5a43-467f-fccb-b01109ecdadb"
      },
      "execution_count": null,
      "outputs": [
        {
          "output_type": "stream",
          "name": "stdout",
          "text": [
            "72/72 [==============================] - 3s 24ms/step\n"
          ]
        }
      ]
    },
    {
      "cell_type": "code",
      "execution_count": null,
      "metadata": {
        "colab": {
          "base_uri": "https://localhost:8080/",
          "height": 295
        },
        "id": "mUbXJOCmCDSQ",
        "outputId": "05d38e3a-c948-4874-fc56-d4e7c02d154d"
      },
      "outputs": [
        {
          "output_type": "display_data",
          "data": {
            "text/plain": [
              "<Figure size 432x288 with 1 Axes>"
            ],
            "image/png": "[encoded data removed]"
          },
          "metadata": {
            "needs_background": "light"
          }
        }
      ],
      "source": [
        "plt.plot(spy_realprice, color = \"red\", label = \"Real Stock Price\")\n",
        "plt.plot(predict_spy_lstm, color = \"black\", label = \"Predict Stock Price LSTM\")\n",
        "plt.title(\"$SPY S&P 500 Price\")\n",
        "plt.xlabel(\"Time\")\n",
        "plt.ylabel(\"Price\")\n",
        "plt.legend()\n",
        "plt.show()"
      ]
    },
    {
      "cell_type": "code",
      "source": [
        "plt.plot(bac_realprice, color = \"red\", label = \"Real Stock Price\")\n",
        "plt.plot(predict_bac_lstm, color = \"black\", label = \"Predict Stock Price LSTM\")\n",
        "plt.title(\"$BAC Price\")\n",
        "plt.xlabel(\"Time\")\n",
        "plt.ylabel(\"Price\")\n",
        "plt.legend()\n",
        "plt.show()"
      ],
      "metadata": {
        "colab": {
          "base_uri": "https://localhost:8080/",
          "height": 295
        },
        "id": "fUiz9QN9YP-b",
        "outputId": "6eac8741-5ff0-4d44-9219-0a456f1b54e3"
      },
      "execution_count": null,
      "outputs": [
        {
          "output_type": "display_data",
          "data": {
            "text/plain": [
              "<Figure size 432x288 with 1 Axes>"
            ],
            "image/png": "[encoded data removed]"
          },
          "metadata": {
            "needs_background": "light"
          }
        }
      ]
    },
    {
      "cell_type": "code",
      "source": [
        "plt.plot(wmt_realprice, color = \"red\", label = \"Real Stock Price\")\n",
        "plt.plot(predict_wmt_lstm, color = \"black\", label = \"Predict Stock Price LSTM\")\n",
        "plt.title(\"$WMT Price\")\n",
        "plt.xlabel(\"Time\")\n",
        "plt.ylabel(\"Price\")\n",
        "plt.legend()\n",
        "plt.show()"
      ],
      "metadata": {
        "colab": {
          "base_uri": "https://localhost:8080/",
          "height": 295
        },
        "id": "Awbltgz-YPyT",
        "outputId": "4d909649-1928-4d5c-d1ae-b4ecf20482a9"
      },
      "execution_count": null,
      "outputs": [
        {
          "output_type": "display_data",
          "data": {
            "text/plain": [
              "<Figure size 432x288 with 1 Axes>"
            ],
            "image/png": "[encoded data removed]"
          },
          "metadata": {
            "needs_background": "light"
          }
        }
      ]
    },
    {
      "cell_type": "code",
      "execution_count": null,
      "metadata": {
        "colab": {
          "base_uri": "https://localhost:8080/",
          "height": 295
        },
        "id": "l8UvPKmaCUDQ",
        "outputId": "76997eb2-0f52-4265-fb16-99bb9e763007"
      },
      "outputs": [
        {
          "output_type": "display_data",
          "data": {
            "text/plain": [
              "<Figure size 432x288 with 1 Axes>"
            ],
            "image/png": "[encoded data removed]"
          },
          "metadata": {
            "needs_background": "light"
          }
        }
      ],
      "source": [
        "plt.plot(spy_realprice, color = \"red\", label = \"Real Stock Price\")\n",
        "plt.plot(predict_spy, color = \"black\", label = \"Predict Stock Price Simple RNN\")\n",
        "plt.plot(predict_spy_lstm, color = \"blue\", label = \"Predict Stock Price LSTM\")\n",
        "plt.title(\"$SPY S&P 500 Price\")\n",
        "plt.xlabel(\"Time\")\n",
        "plt.ylabel(\"Price\")\n",
        "plt.legend()\n",
        "plt.show()"
      ]
    },
    {
      "cell_type": "code",
      "source": [
        "plt.plot(bac_realprice, color = \"red\", label = \"Real Stock Price\")\n",
        "plt.plot(predict_bac, color = \"black\", label = \"Predict Stock Price Simple RNN\")\n",
        "plt.plot(predict_bac_lstm, color = \"blue\", label = \"Predict Stock Price LSTM\")\n",
        "plt.title(\"$BAC Price\")\n",
        "plt.xlabel(\"Time\")\n",
        "plt.ylabel(\"Price\")\n",
        "plt.legend()\n",
        "plt.show()"
      ],
      "metadata": {
        "colab": {
          "base_uri": "https://localhost:8080/",
          "height": 295
        },
        "id": "srBc6LB6YzSz",
        "outputId": "5ea6ba81-0c19-49a7-98af-1ba953168847"
      },
      "execution_count": null,
      "outputs": [
        {
          "output_type": "display_data",
          "data": {
            "text/plain": [
              "<Figure size 432x288 with 1 Axes>"
            ],
            "image/png": "[encoded data removed]"
          },
          "metadata": {
            "needs_background": "light"
          }
        }
      ]
    },
    {
      "cell_type": "code",
      "source": [
        "plt.plot(wmt_realprice, color = \"red\", label = \"Real Stock Price\")\n",
        "plt.plot(predict_wmt, color = \"black\", label = \"Predict Stock Price Simple RNN\")\n",
        "plt.plot(predict_wmt_lstm, color = \"blue\", label = \"Predict Stock Price LSTM\")\n",
        "plt.title(\"$WMT Price\")\n",
        "plt.xlabel(\"Time\")\n",
        "plt.ylabel(\"Price\")\n",
        "plt.legend()\n",
        "plt.show()"
      ],
      "metadata": {
        "colab": {
          "base_uri": "https://localhost:8080/",
          "height": 295
        },
        "id": "DBIRaw1sYzJb",
        "outputId": "699d5a09-c198-471f-e121-ffd8e7a66ebd"
      },
      "execution_count": null,
      "outputs": [
        {
          "output_type": "display_data",
          "data": {
            "text/plain": [
              "<Figure size 432x288 with 1 Axes>"
            ],
            "image/png": "[encoded data removed]"
          },
          "metadata": {
            "needs_background": "light"
          }
        }
      ]
    }
  ],
  "metadata": {
    "accelerator": "GPU",
    "colab": {
      "provenance": []
    },
    "gpuClass": "standard",
    "kernelspec": {
      "display_name": "Python 3",
      "name": "python3"
    },
    "language_info": {
      "name": "python"
    }
  },
  "nbformat": 4,
  "nbformat_minor": 0
}